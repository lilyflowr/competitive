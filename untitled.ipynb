{
 "cells": [
  {
   "cell_type": "code",
   "execution_count": 2,
   "metadata": {},
   "outputs": [
    {
     "name": "stdout",
     "output_type": "stream",
     "text": [
      "Loading local file: umarks_market_research.xlsx\n"
     ]
    }
   ],
   "source": [
    "import os\n",
    "import pandas as pd\n",
    "import numpy as np \n",
    "import matplotlib.pyplot as plt \n",
    "import seaborn as sns \n",
    "import plotly.express as px \n",
    "from dash import Dash, dcc, html \n",
    "\n",
    "\n",
    "\n",
    "file_name = 'umarks_market_research.xlsx'\n",
    "sheet_name = 'Competition'\n",
    "file_path = os.path.join(os.getcwd(), file_name)\n",
    "\n",
    "\n",
    "google_sheet_url = \"https://docs.google.com/spreadsheets/d/1zh7FMVxaklE_LTupse49FB-LiacmO3LL_pSzR0uYiUc/edit?usp=sharing\"\n",
    "\n",
    "try:\n",
    "\n",
    "\n",
    "    if os.path.exists(file_path):\n",
    "        print(f\"Loading local file: {file_name}\")\n",
    "        data = pd.read_excel(file_path, sheet_name=sheet_name, engine='openpyxl')\n",
    "    else:\n",
    "        raise FileNotFoundError(f\"Local file '{file_name}' not found.\")\n",
    "except FileNotFoundError as e:\n",
    "\n",
    "    print(f\"{e}\\nFetching data from Google Sheets...\")\n",
    "    data = pd.read_excel(google_sheet_url, sheet_name=sheet_name, engine='openpyxl')"
   ]
  },
  {
   "cell_type": "code",
   "execution_count": 3,
   "metadata": {},
   "outputs": [
    {
     "name": "stdout",
     "output_type": "stream",
     "text": [
      "               Competition Name  \\\n",
      "0  Lentarex Ltd - Port Harcourt   \n",
      "1                     Ani David   \n",
      "2                Digweb Experts   \n",
      "3                 Eloti Designs   \n",
      "4                   SilvaCreate   \n",
      "\n",
      "                                               Brand              Location  \\\n",
      "0                                       Web Designer         Port Harcourt   \n",
      "1  Web Designer, SEO Content Writer,digital marketer         Port Harcourt   \n",
      "2                                       Web Designer         Port Harcourt   \n",
      "3                                       Web Designer  Port Harcourt, Lagos   \n",
      "4                                       Web Designer         Port Harcourt   \n",
      "\n",
      "   No of Employees  X_No_of_followers  X Avg Impressions  X_Imp_Eng_Rate  \\\n",
      "0                2                 11                0.0             0.0   \n",
      "1                1                  0                0.0             0.0   \n",
      "2                1                  0                0.0             0.0   \n",
      "3                2                  0                0.0             0.0   \n",
      "4                3                 55                0.0             0.0   \n",
      "\n",
      "   Youtube subscribers  Youtube views  Youtube Videos  ...  \\\n",
      "0                    0              0               0  ...   \n",
      "1                   82             33               6  ...   \n",
      "2                    0              0               0  ...   \n",
      "3                    0              0               0  ...   \n",
      "4                    1             28               1  ...   \n",
      "\n",
      "   Domain_Strength_10  Ip_address_location  \\\n",
      "0                4.01                  USA   \n",
      "1                0.12                  USA   \n",
      "2                1.91                  USA   \n",
      "3                3.16                  USA   \n",
      "4                2.74                  USA   \n",
      "\n",
      "                                          Weaknesses  \\\n",
      "0   Poor Ui design, Inadequate Social Media Presence   \n",
      "1  Slow loading,No clear CTA, poor ui and ux,on w...   \n",
      "2     Poor Social media presence, Poor CTA placement   \n",
      "3  Inconsistent Font size,Contrasting colours, Po...   \n",
      "4       No recent blogs, outdated social media posts   \n",
      "\n",
      "                                     Unique Features  Rank On Google  Reviews  \\\n",
      "0                            Domain Name and Hosting               1       45   \n",
      "1           Word Press Websites, SEO Content Writing               2       48   \n",
      "2  Provide business domain emails with Microssoft...               3        5   \n",
      "3  Chatbot, Specific and Detailed Price Plans,Obv...               4      106   \n",
      "4  Chatbot(tawk.to),Accessibity icon, Functional ...               5        6   \n",
      "\n",
      "   Rating Direct or Indirect Competition  Yrs_In_Biz  \\\n",
      "0     4.9                            Yes          10   \n",
      "1     4.9                            Yes           5   \n",
      "2     5.0                            Yes           2   \n",
      "3     4.8                            Yes          12   \n",
      "4     5.0                            Yes           8   \n",
      "\n",
      "                                       Keyword Cloud  \n",
      "0  Website design, digital solutions, content cre...  \n",
      "1  Local SEO, web design Port Harcourt, Nigerian ...  \n",
      "2   E-commerce, web hosting, app development, dig...  \n",
      "3  Graphic design, branding, digital media, photo...  \n",
      "4  Digital marketing, SEO, social media managemen...  \n",
      "\n",
      "[5 rows x 30 columns]\n"
     ]
    }
   ],
   "source": [
    "print(data.head())"
   ]
  },
  {
   "cell_type": "code",
   "execution_count": 4,
   "metadata": {},
   "outputs": [
    {
     "name": "stdout",
     "output_type": "stream",
     "text": [
      "\n",
      "Missing values in each column:\n",
      "Competition Name                  0\n",
      "Brand                             0\n",
      "Location                          0\n",
      "No of Employees                   0\n",
      "X_No_of_followers                 0\n",
      "X Avg Impressions                 0\n",
      "X_Imp_Eng_Rate                    0\n",
      "Youtube subscribers               0\n",
      "Youtube views                     0\n",
      "Youtube Videos                    0\n",
      "Dribbble followers                0\n",
      "IG Followers                      0\n",
      "No_Of_IG_Posts                    0\n",
      "IG eng Rate                       0\n",
      "LinkedIn followers                0\n",
      "Facebook Followers                0\n",
      "Facebook Likes                    0\n",
      "Strengths                         0\n",
      "Page_load_time_5                  0\n",
      "SEO_Backlink_Score_5              0\n",
      "Domain_Strength_10                0\n",
      "Ip_address_location               0\n",
      "Weaknesses                        0\n",
      "Unique Features                   0\n",
      "Rank On Google                    0\n",
      "Reviews                           0\n",
      "Rating                            0\n",
      "Direct or Indirect Competition    0\n",
      "Yrs_In_Biz                        0\n",
      "Keyword Cloud                     0\n",
      "dtype: int64\n"
     ]
    }
   ],
   "source": [
    "print(\"\\nMissing values in each column:\")\n",
    "print(data.isnull().sum())"
   ]
  },
  {
   "cell_type": "code",
   "execution_count": 5,
   "metadata": {},
   "outputs": [
    {
     "name": "stdout",
     "output_type": "stream",
     "text": [
      "\n",
      "Dataset info\n",
      "<class 'pandas.core.frame.DataFrame'>\n",
      "RangeIndex: 20 entries, 0 to 19\n",
      "Data columns (total 30 columns):\n",
      " #   Column                          Non-Null Count  Dtype  \n",
      "---  ------                          --------------  -----  \n",
      " 0   Competition Name                20 non-null     object \n",
      " 1   Brand                           20 non-null     object \n",
      " 2   Location                        20 non-null     object \n",
      " 3   No of Employees                 20 non-null     int64  \n",
      " 4   X_No_of_followers               20 non-null     int64  \n",
      " 5   X Avg Impressions               20 non-null     float64\n",
      " 6   X_Imp_Eng_Rate                  20 non-null     float64\n",
      " 7   Youtube subscribers             20 non-null     int64  \n",
      " 8   Youtube views                   20 non-null     int64  \n",
      " 9   Youtube Videos                  20 non-null     int64  \n",
      " 10  Dribbble followers              20 non-null     int64  \n",
      " 11  IG Followers                    20 non-null     int64  \n",
      " 12  No_Of_IG_Posts                  20 non-null     int64  \n",
      " 13  IG eng Rate                     20 non-null     float64\n",
      " 14  LinkedIn followers              20 non-null     int64  \n",
      " 15  Facebook Followers              20 non-null     int64  \n",
      " 16  Facebook Likes                  20 non-null     int64  \n",
      " 17  Strengths                       20 non-null     object \n",
      " 18  Page_load_time_5                20 non-null     float64\n",
      " 19  SEO_Backlink_Score_5            20 non-null     int64  \n",
      " 20  Domain_Strength_10              20 non-null     float64\n",
      " 21  Ip_address_location             20 non-null     object \n",
      " 22  Weaknesses                      20 non-null     object \n",
      " 23  Unique Features                 20 non-null     object \n",
      " 24  Rank On Google                  20 non-null     int64  \n",
      " 25  Reviews                         20 non-null     int64  \n",
      " 26  Rating                          20 non-null     float64\n",
      " 27  Direct or Indirect Competition  20 non-null     object \n",
      " 28  Yrs_In_Biz                      20 non-null     int64  \n",
      " 29  Keyword Cloud                   20 non-null     object \n",
      "dtypes: float64(6), int64(15), object(9)\n",
      "memory usage: 4.8+ KB\n",
      "None\n"
     ]
    }
   ],
   "source": [
    "print(\"\\nDataset info\")\n",
    "print(data.info())"
   ]
  },
  {
   "cell_type": "code",
   "execution_count": 6,
   "metadata": {},
   "outputs": [
    {
     "name": "stdout",
     "output_type": "stream",
     "text": [
      "\n",
      "Summary stats\n",
      "                    Competition Name         Brand       Location  \\\n",
      "count                             20            20             20   \n",
      "unique                            20            15              4   \n",
      "top     Lentarex Ltd - Port Harcourt  Web Designer  Port Harcourt   \n",
      "freq                               1             4             17   \n",
      "mean                             NaN           NaN            NaN   \n",
      "std                              NaN           NaN            NaN   \n",
      "min                              NaN           NaN            NaN   \n",
      "25%                              NaN           NaN            NaN   \n",
      "50%                              NaN           NaN            NaN   \n",
      "75%                              NaN           NaN            NaN   \n",
      "max                              NaN           NaN            NaN   \n",
      "\n",
      "        No of Employees  X_No_of_followers  X Avg Impressions  X_Imp_Eng_Rate  \\\n",
      "count         20.000000          20.000000            20.0000       20.000000   \n",
      "unique              NaN                NaN                NaN             NaN   \n",
      "top                 NaN                NaN                NaN             NaN   \n",
      "freq                NaN                NaN                NaN             NaN   \n",
      "mean           7.000000         316.800000            27.7330        0.031680   \n",
      "std            9.176629         529.120979            42.5103        0.046245   \n",
      "min            1.000000           0.000000             0.0000        0.000000   \n",
      "25%            2.750000           0.750000             0.0000        0.000000   \n",
      "50%            4.000000          58.000000             5.8350        0.006550   \n",
      "75%            5.250000         378.500000            50.7475        0.062700   \n",
      "max           40.000000        1907.000000           129.0000        0.169800   \n",
      "\n",
      "        Youtube subscribers  Youtube views  Youtube Videos  ...  \\\n",
      "count             20.000000       20.00000       20.000000  ...   \n",
      "unique                  NaN            NaN             NaN  ...   \n",
      "top                     NaN            NaN             NaN  ...   \n",
      "freq                    NaN            NaN             NaN  ...   \n",
      "mean             110.750000     3398.30000       20.500000  ...   \n",
      "std              397.511453    13520.43457       72.678456  ...   \n",
      "min                0.000000        0.00000        0.000000  ...   \n",
      "25%                0.000000        0.00000        0.000000  ...   \n",
      "50%                0.000000        0.00000        0.000000  ...   \n",
      "75%                9.750000       79.25000        7.000000  ...   \n",
      "max             1770.000000    60648.00000      327.000000  ...   \n",
      "\n",
      "        Domain_Strength_10  Ip_address_location  \\\n",
      "count             20.00000                   20   \n",
      "unique                 NaN                    2   \n",
      "top                    NaN                  USA   \n",
      "freq                   NaN                   18   \n",
      "mean               1.46185                  NaN   \n",
      "std                1.31911                  NaN   \n",
      "min                0.04000                  NaN   \n",
      "25%                0.16500                  NaN   \n",
      "50%                1.17000                  NaN   \n",
      "75%                2.64250                  NaN   \n",
      "max                4.01000                  NaN   \n",
      "\n",
      "                                               Weaknesses  \\\n",
      "count                                                  20   \n",
      "unique                                                 19   \n",
      "top     Inadequate social media presence, zero company...   \n",
      "freq                                                    2   \n",
      "mean                                                  NaN   \n",
      "std                                                   NaN   \n",
      "min                                                   NaN   \n",
      "25%                                                   NaN   \n",
      "50%                                                   NaN   \n",
      "75%                                                   NaN   \n",
      "max                                                   NaN   \n",
      "\n",
      "                Unique Features  Rank On Google     Reviews     Rating  \\\n",
      "count                        20       20.000000   20.000000  20.000000   \n",
      "unique                       20             NaN         NaN        NaN   \n",
      "top     Domain Name and Hosting             NaN         NaN        NaN   \n",
      "freq                          1             NaN         NaN        NaN   \n",
      "mean                        NaN        5.500000   30.950000   4.885000   \n",
      "std                         NaN        3.748684   31.688409   0.130888   \n",
      "min                         NaN        1.000000    5.000000   4.600000   \n",
      "25%                         NaN        3.000000    7.500000   4.800000   \n",
      "50%                         NaN        4.500000   19.000000   4.900000   \n",
      "75%                         NaN        8.250000   45.750000   5.000000   \n",
      "max                         NaN       13.000000  107.000000   5.000000   \n",
      "\n",
      "       Direct or Indirect Competition  Yrs_In_Biz  \\\n",
      "count                              20   20.000000   \n",
      "unique                              2         NaN   \n",
      "top                               Yes         NaN   \n",
      "freq                               13         NaN   \n",
      "mean                              NaN    6.500000   \n",
      "std                               NaN    3.300718   \n",
      "min                               NaN    2.000000   \n",
      "25%                               NaN    4.750000   \n",
      "50%                               NaN    6.000000   \n",
      "75%                               NaN    8.250000   \n",
      "max                               NaN   13.000000   \n",
      "\n",
      "                                            Keyword Cloud  \n",
      "count                                                  20  \n",
      "unique                                                 20  \n",
      "top     Website design, digital solutions, content cre...  \n",
      "freq                                                    1  \n",
      "mean                                                  NaN  \n",
      "std                                                   NaN  \n",
      "min                                                   NaN  \n",
      "25%                                                   NaN  \n",
      "50%                                                   NaN  \n",
      "75%                                                   NaN  \n",
      "max                                                   NaN  \n",
      "\n",
      "[11 rows x 30 columns]\n"
     ]
    }
   ],
   "source": [
    "print(\"\\nSummary stats\")\n",
    "print(data.describe(include='all'))"
   ]
  },
  {
   "cell_type": "code",
   "execution_count": 7,
   "metadata": {},
   "outputs": [
    {
     "name": "stdout",
     "output_type": "stream",
     "text": [
      "\n",
      "Data types:\n",
      "Competition Name                   object\n",
      "Brand                              object\n",
      "Location                           object\n",
      "No of Employees                     int64\n",
      "X_No_of_followers                   int64\n",
      "X Avg Impressions                 float64\n",
      "X_Imp_Eng_Rate                    float64\n",
      "Youtube subscribers                 int64\n",
      "Youtube views                       int64\n",
      "Youtube Videos                      int64\n",
      "Dribbble followers                  int64\n",
      "IG Followers                        int64\n",
      "No_Of_IG_Posts                      int64\n",
      "IG eng Rate                       float64\n",
      "LinkedIn followers                  int64\n",
      "Facebook Followers                  int64\n",
      "Facebook Likes                      int64\n",
      "Strengths                          object\n",
      "Page_load_time_5                  float64\n",
      "SEO_Backlink_Score_5                int64\n",
      "Domain_Strength_10                float64\n",
      "Ip_address_location                object\n",
      "Weaknesses                         object\n",
      "Unique Features                    object\n",
      "Rank On Google                      int64\n",
      "Reviews                             int64\n",
      "Rating                            float64\n",
      "Direct or Indirect Competition     object\n",
      "Yrs_In_Biz                          int64\n",
      "Keyword Cloud                      object\n",
      "dtype: object\n"
     ]
    }
   ],
   "source": [
    "print(\"\\nData types:\")\n",
    "print(data.dtypes)"
   ]
  },
  {
   "cell_type": "code",
   "execution_count": 8,
   "metadata": {},
   "outputs": [
    {
     "data": {
      "image/png": "[encoded data removed]",
      "text/plain": [
       "<Figure size 1000x800 with 25 Axes>"
      ]
     },
     "metadata": {},
     "output_type": "display_data"
    }
   ],
   "source": [
    "numerical_columns = data.select_dtypes(include=np.number).columns\n",
    "data[numerical_columns].hist(figsize=(10,8))\n",
    "plt.tight_layout()\n",
    "plt.show()"
   ]
  },
  {
   "cell_type": "code",
   "execution_count": 9,
   "metadata": {},
   "outputs": [
    {
     "name": "stdout",
     "output_type": "stream",
     "text": [
      "\n",
      "Categorical columns: ['Competition Name', 'Brand', 'Location', 'Strengths', 'Ip_address_location', 'Weaknesses', 'Unique Features', 'Direct or Indirect Competition', 'Keyword Cloud']\n",
      "\n",
      "Value counts for Competition Name:\n",
      "Competition Name\n",
      "Lentarex Ltd - Port Harcourt    1\n",
      "Ani David                       1\n",
      "Digweb Experts                  1\n",
      "Eloti Designs                   1\n",
      "SilvaCreate                     1\n",
      "MEL-Technologies                1\n",
      "Mobirevo                        1\n",
      "Pivva Technologies              1\n",
      "Lightech - I.T Firm             1\n",
      "Classicweb                      1\n",
      "Rewod Technologies              1\n",
      "inMotion Hub                    1\n",
      "Drivecrowd                      1\n",
      "DDBA                            1\n",
      "Clarylife Global                1\n",
      "CareerEx                        1\n",
      "KISContent Digital Agency       1\n",
      "BRISKITA                        1\n",
      "SDATA West Africa Limited       1\n",
      "Fortran House                   1\n",
      "Name: count, dtype: int64\n",
      "\n",
      "Value counts for Brand:\n",
      "Brand\n",
      "Web Designer                                         4\n",
      "Software Solutions Company                           3\n",
      "Web Designer, SEO Content Writer,digital marketer    1\n",
      "Software Company                                     1\n",
      "Software Development Company                         1\n",
      "Tech Solutions Company                               1\n",
      "Software development and Education Company           1\n",
      "Marketing Agency                                     1\n",
      "Ad Agency                                            1\n",
      "Brands, Software, Automations Agency                 1\n",
      "Tech Education                                       1\n",
      "Advertising Agency                                   1\n",
      "Branding and Software Agency                         1\n",
      "Cybersecurity,IT Services Company                    1\n",
      "Software development,Mobile app and Logo designs     1\n",
      "Name: count, dtype: int64\n",
      "\n",
      "Value counts for Location:\n",
      "Location\n",
      "Port Harcourt             17\n",
      "Port Harcourt, Lagos       1\n",
      "Port Harcourt, USA, UK     1\n",
      "Port HArcourt              1\n",
      "Name: count, dtype: int64\n",
      "\n",
      "Value counts for Strengths:\n",
      "Strengths\n",
      "Seo Expert,Word Press Designer                                                                                                                                                                                                                                                                                                                                                                                                                                                                                                                                                                                                                                                                                                                                                                                                                                 1\n",
      "Seo and Digital Marketing Expert, Top ranking for marketing and website development in Port Harcourt                                                                                                                                                                                                                                                                                                                                                                                                                                                                                                                                                                                                                                                                                                                                                           1\n",
      "A dedicated service page for each service, SEO optimized footer section, Provides resellable content management software                                                                                                                                                                                                                                                                                                                                                                                                                                                                                                                                                                                                                                                                                                                                       1\n",
      "Fast Load time,Large Portfolio, Actual Google reviews on website,                                                                                                                                                                                                                                                                                                                                                                                                                                                                                                                                                                                                                                                                                                                                                                                              1\n",
      "Fast load time, intuitive ux with animations, clear and readable typography, well-detailed pages dedicated to the different services rendered, well-written blogs                                                                                                                                                                                                                                                                                                                                                                                                                                                                                                                                                                                                                                                                                              1\n",
      "Quality Service, Responsive Web design, lots of projects done for reputable companies and businesses in Nigeria                                                                                                                                                                                                                                                                                                                                                                                                                                                                                                                                                                                                                                                                                                                                                1\n",
      "Personnel Growth improved the quality of service provided as well as expanded their market, international standard UI and UX designs, a well-developed footer with SEO optimization, a team of advanced experts, trusted by top world-class clients (Forbes, Business Insider etc)dedicated customer service official, Fixed Budget feature enables quality control for budget clients                                                                                                                                                                                                                                                                                                                                                                                                                                                                         1\n",
      "Up to date articles in blog, actual google reviews that are verifiable and a link to easily give a google review,clean ui and ux,whatsapp customer service in place of chatbot,their process(from ideation to completion of a project is wholesome and explained for potential client - including links to specific articles explaining the process and a contact form at the end as a CTA., font size is very readable especially for clients btw (50-65+) Consideration for this age demographic is subtle but excellent as they are the audience that most likely to have funds to pay for projects.a pricing section for web development and graphics which takes the user through a 3 step process asking for details about the project and a contact section at the end for ease of communication with the price that fits the clients specific needs    1\n",
      "Clean Ui, up to date Instagram page and linkedin, Nice graphics                                                                                                                                                                                                                                                                                                                                                                                                                                                                                                                                                                                                                                                                                                                                                                                                1\n",
      "They have a large teen audience for educative purposes                                                                                                                                                                                                                                                                                                                                                                                                                                                                                                                                                                                                                                                                                                                                                                                                         1\n",
      "Up to date on their active social media platforms ,Company                                                                                                                                                                                                                                                                                                                                                                                                                                                                                                                                                                                                                                                                                                                                                                                                     1\n",
      "They have a tech community that fosters engagement on their socials, a dedicated graphics team with regular posts on Instagram, a comfortable environment that fosters learning                                                                                                                                                                                                                                                                                                                                                                                                                                                                                                                                                                                                                                                                                1\n",
      "Amazing Ui and Ux, Industry focused, Outlined process to gain trust, Give a google review directly from the site , dedicated team of experts,Social media account recovery, good video marketing and timely posts on social media handles, great at visibility of prsomnal and company brands                                                                                                                                                                                                                                                                                                                                                                                                                                                                                                                                                                  1\n",
      "updated instagram account,well detailed services provided fostering client trust, google reviews on website with a link to give a google revie directly from the site to gain feedback easily and build trust,, excellent ui and ux                                                                                                                                                                                                                                                                                                                                                                                                                                                                                                                                                                                                                            1\n",
      "able to attract foreign clients,very good at graphics designs, nice ui                                                                                                                                                                                                                                                                                                                                                                                                                                                                                                                                                                                                                                                                                                                                                                                         1\n",
      "Dedicated team of educators,community building,alumni gets hired by clients seeking cheap but efficient labour, 360 rebranding from elitepaths increased engaement                                                                                                                                                                                                                                                                                                                                                                                                                                                                                                                                                                                                                                                                                             1\n",
      "3D Animations and Graphics,Drone photography and aerial mapping                                                                                                                                                                                                                                                                                                                                                                                                                                                                                                                                                                                                                                                                                                                                                                                                1\n",
      "Nice graphics designs,                                                                                                                                                                                                                                                                                                                                                                                                                                                                                                                                                                                                                                                                                                                                                                                                                                         1\n",
      "Cybersecurity, Hardware maintenance and Repairs                                                                                                                                                                                                                                                                                                                                                                                                                                                                                                                                                                                                                                                                                                                                                                                                                1\n",
      "Expert  IOT solutions and installations                                                                                                                                                                                                                                                                                                                                                                                                                                                                                                                                                                                                                                                                                                                                                                                                                        1\n",
      "Name: count, dtype: int64\n",
      "\n",
      "Value counts for Ip_address_location:\n",
      "Ip_address_location\n",
      "USA        18\n",
      "Germany     2\n",
      "Name: count, dtype: int64\n",
      "\n",
      "Value counts for Weaknesses:\n",
      "Weaknesses\n",
      "Inadequate social media presence, zero company growth                                                                                        2\n",
      "Slow loading,No clear CTA, poor ui and ux,on website                                                                                         1\n",
      "Poor Ui design, Inadequate Social Media Presence                                                                                             1\n",
      "Poor Social media presence, Poor CTA placement                                                                                               1\n",
      "Inconsistent Font size,Contrasting colours, Poor social media presence, one man company                                                      1\n",
      "Not so heavy on SEO                                                                                                                          1\n",
      "No recent blogs, outdated social media posts                                                                                                 1\n",
      "slow load time,social media pages not up to date                                                                                             1\n",
      "Unverifiable reviews, pages on site not opening, brand links not verifiable, very low audience engagement, unique ideas-poor management      1\n",
      "UI carousel not functioning well, Not many projects displayed, mismanaged online presence,                                                   1\n",
      "could'nt find                                                                                                                                1\n",
      "WordPress site, Poor user experience,on a services pages                                                                                     1\n",
      "Not so many clients, they are not big on marketing                                                                                           1\n",
      "no visible business growth, no portfolio or cases study to back achievement, lorem ipsum on some key pages                                   1\n",
      "employees are not visible online                                                                                                             1\n",
      "slow load time                                                                                                                               1\n",
      "Registration not working, links to social accounts not working,incomplete rebranding from elitepaths leading to loss of potential clients    1\n",
      "ui colours too contrasting,slow growth of company despite being in marketing                                                                 1\n",
      "lorem ipsum found in some parts of the site, no past projects or portfolio                                                                   1\n",
      "Name: count, dtype: int64\n",
      "\n",
      "Value counts for Unique Features:\n",
      "Unique Features\n",
      "Domain Name and Hosting                                                                                                                            1\n",
      "Word Press Websites, SEO Content Writing                                                                                                           1\n",
      "Provide business domain emails with Microssoft 365, Hospital and School management software , CCTV iinstallation, Hotline number displayed well    1\n",
      "Chatbot, Specific and Detailed Price Plans,Obvious CTA buttons, Mini Blog                                                                          1\n",
      "Chatbot(tawk.to),Accessibity icon, Functional Map with directions, Hotline navbar                                                                  1\n",
      "Have well structured education system,                                                                                                             1\n",
      "Advanced specializations,offshore development center,fixed price project                                                                           1\n",
      "Well thought out user experience, actual map for easy physical verification                                                                        1\n",
      "Parent to a dedicated server company                                                                                                               1\n",
      "Teach teens how to code, web hosting services,                                                                                                     1\n",
      "Teaching sessions have good reviews from students                                                                                                  1\n",
      "none                                                                                                                                               1\n",
      "brand visibility                                                                                                                                   1\n",
      "They provide all round market analytics for clients                                                                                                1\n",
      "FAQ section, asides reviews, portfolio showcased are case studies,                                                                                 1\n",
      "Hiring of alumni                                                                                                                                   1\n",
      "drone photography and aerial mapping                                                                                                               1\n",
      "Co-working Space Rental                                                                                                                            1\n",
      "Network security services                                                                                                                          1\n",
      "IOT softwares (Feedback scanner)                                                                                                                   1\n",
      "Name: count, dtype: int64\n",
      "\n",
      "Value counts for Direct or Indirect Competition:\n",
      "Direct or Indirect Competition\n",
      "Yes    13\n",
      "No      7\n",
      "Name: count, dtype: int64\n",
      "\n",
      "Value counts for Keyword Cloud:\n",
      "Keyword Cloud\n",
      "Website design, digital solutions, content creation, branding, SEO services, e-commerce, Nigeria, tech innovation, IT support.      1\n",
      "Local SEO, web design Port Harcourt, Nigerian business directories, branding, social media engagement, e-commerce functionality​    1\n",
      " E-commerce, web hosting, app development, digital marketing, social media ads, SEO services                                        1\n",
      "Graphic design, branding, digital media, photography, web design, Nigeria creative solutions                                        1\n",
      "Digital marketing, SEO, social media management, website optimization, branding strategies                                          1\n",
      "Software development, AI solutions, enterprise automation, mobile app design, IT consulting                                         1\n",
      "Mobile app development, software solutions, website design, product development, Nigeria tech startups                              1\n",
      "Cybersecurity, IT services, managed services, digital innovation, data protection                                                   1\n",
      "Tech solutions, business automation, custom software, website development, branding                                                 1\n",
      "Affordable websites, small business solutions, responsive design, Nigeria entrepreneurs                                             1\n",
      "Digital transformations, web development, app design, IT consultancy.                                                               1\n",
      "Creative agency, design services, animation, marketing solutions                                                                    1\n",
      "Social media marketing, influencer campaigns, content creation, audience engagement                                                 1\n",
      "Branding, digital marketing, corporate identity, strategy development                                                               1\n",
      "Personal branding, coaching, digital courses, social media strategies                                                               1\n",
      "Career coaching, resume writing, personal branding, LinkedIn optimization                                                           1\n",
      "Content marketing, writing services, digital storytelling, brand voice                                                              1\n",
      "Digital marketing, IT solutions, customer engagement, branding                                                                      1\n",
      "Data security, encryption, cloud services, IT solutions                                                                             1\n",
      "Software engineering, coding tutorials, tech education, IT certifications.                                                          1\n",
      "Name: count, dtype: int64\n"
     ]
    }
   ],
   "source": [
    "categorical_columns = data.select_dtypes(exclude=np.number).columns\n",
    "print(f\"\\nCategorical columns: {categorical_columns.tolist()}\")\n",
    "for col in categorical_columns:\n",
    "    print(f\"\\nValue counts for {col}:\")\n",
    "    print(data[col].value_counts())"
   ]
  },
  {
   "cell_type": "code",
   "execution_count": 10,
   "metadata": {},
   "outputs": [
    {
     "name": "stdout",
     "output_type": "stream",
     "text": [
      "\n",
      "Correlation matrix:\n"
     ]
    },
    {
     "data": {
      "image/png": "[encoded data removed]",
      "text/plain": [
       "<Figure size 640x480 with 2 Axes>"
      ]
     },
     "metadata": {},
     "output_type": "display_data"
    }
   ],
   "source": [
    "if len(numerical_columns) > 1:\n",
    "    print(\"\\nCorrelation matrix:\")\n",
    "    corr = data[numerical_columns].corr()\n",
    "    sns.heatmap(corr, annot=True,cmap='coolwarm', fmt=\".1f\")\n",
    "    plt.title(\"Correlation Matrix\")\n",
    "    plt.show()"
   ]
  },
  {
   "cell_type": "code",
   "execution_count": 11,
   "metadata": {},
   "outputs": [],
   "source": [
    "data['X Engagement Score'] = data['X_No_of_followers'] * data['X Avg Impressions'] * data['X_Imp_Eng_Rate']\n",
    "data['IG Engagement Score'] = data['IG Followers'] * data['No_Of_IG_Posts'] * data['IG eng Rate']\n",
    "data['Youtube Engagement Score'] = data['Youtube Videos'] * data['Youtube subscribers'] * data['Youtube views']\n",
    "data['Facebook Engagement Score'] = data['Facebook Followers'] * data['Facebook Likes']\n",
    "data['LinkedIn Engagement Score'] = data['LinkedIn followers']\n",
    "data['Dribbble Engagement Score'] = data['Dribbble followers']"
   ]
  },
  {
   "cell_type": "code",
   "execution_count": 12,
   "metadata": {},
   "outputs": [
    {
     "name": "stdout",
     "output_type": "stream",
     "text": [
      "                 Competition Name      Social Media Platform  Engagement Score\n",
      "0    Lentarex Ltd - Port Harcourt         X Engagement Score               0.0\n",
      "1                       Ani David         X Engagement Score               0.0\n",
      "2                  Digweb Experts         X Engagement Score               0.0\n",
      "3                   Eloti Designs         X Engagement Score               0.0\n",
      "4                     SilvaCreate         X Engagement Score               0.0\n",
      "..                            ...                        ...               ...\n",
      "115                      CareerEx  Dribbble Engagement Score               0.0\n",
      "116     KISContent Digital Agency  Dribbble Engagement Score               0.0\n",
      "117                      BRISKITA  Dribbble Engagement Score               0.0\n",
      "118     SDATA West Africa Limited  Dribbble Engagement Score               0.0\n",
      "119                 Fortran House  Dribbble Engagement Score               0.0\n",
      "\n",
      "[120 rows x 3 columns]\n"
     ]
    }
   ],
   "source": [
    "from sklearn.preprocessing import MinMaxScaler # type: ignore\n",
    "\n",
    "engagement_columns = [\n",
    "    'X Engagement Score', 'IG Engagement Score', 'Youtube Engagement Score',\n",
    "    'Facebook Engagement Score', 'LinkedIn Engagement Score','Dribbble Engagement Score'\n",
    "]\n",
    "scaler = MinMaxScaler()\n",
    "data[engagement_columns] = scaler.fit_transform(data[engagement_columns])\n",
    "\n",
    "engagement_data = data.melt(\n",
    "    id_vars=['Competition Name'],\n",
    "    value_vars=engagement_columns,\n",
    "    var_name='Social Media Platform',\n",
    "    value_name='Engagement Score'\n",
    ")\n",
    "print(engagement_data)"
   ]
  },
  {
   "cell_type": "code",
   "execution_count": 13,
   "metadata": {},
   "outputs": [],
   "source": [
    "data['Total Engagement Score'] = (\n",
    "    data['X Engagement Score'] + \n",
    "    data['IG Engagement Score'] + \n",
    "    data['Youtube Engagement Score'] + \n",
    "    data['Facebook Engagement Score'] + \n",
    "    data['LinkedIn Engagement Score'] +\n",
    "    data['Dribbble Engagement Score']\n",
    ")"
   ]
  },
  {
   "cell_type": "code",
   "execution_count": 14,
   "metadata": {},
   "outputs": [
    {
     "data": {
      "text/html": [
       "<div>\n",
       "<style scoped>\n",
       "    .dataframe tbody tr th:only-of-type {\n",
       "        vertical-align: middle;\n",
       "    }\n",
       "\n",
       "    .dataframe tbody tr th {\n",
       "        vertical-align: top;\n",
       "    }\n",
       "\n",
       "    .dataframe thead th {\n",
       "        text-align: right;\n",
       "    }\n",
       "</style>\n",
       "<table border=\"1\" class=\"dataframe\">\n",
       "  <thead>\n",
       "    <tr style=\"text-align: right;\">\n",
       "      <th></th>\n",
       "      <th>Rank On Google</th>\n",
       "      <th>Inverted Rank</th>\n",
       "      <th>Normalized Rank</th>\n",
       "      <th>Reviews</th>\n",
       "      <th>Normalized Reviews</th>\n",
       "      <th>Rating</th>\n",
       "      <th>Normalized Rating</th>\n",
       "      <th>Combined Reviews Score</th>\n",
       "    </tr>\n",
       "  </thead>\n",
       "  <tbody>\n",
       "    <tr>\n",
       "      <th>0</th>\n",
       "      <td>1</td>\n",
       "      <td>13</td>\n",
       "      <td>1.000000</td>\n",
       "      <td>45</td>\n",
       "      <td>0.392157</td>\n",
       "      <td>4.9</td>\n",
       "      <td>0.75</td>\n",
       "      <td>0.633578</td>\n",
       "    </tr>\n",
       "    <tr>\n",
       "      <th>1</th>\n",
       "      <td>2</td>\n",
       "      <td>12</td>\n",
       "      <td>0.916667</td>\n",
       "      <td>48</td>\n",
       "      <td>0.421569</td>\n",
       "      <td>4.9</td>\n",
       "      <td>0.75</td>\n",
       "      <td>0.627451</td>\n",
       "    </tr>\n",
       "    <tr>\n",
       "      <th>2</th>\n",
       "      <td>3</td>\n",
       "      <td>11</td>\n",
       "      <td>0.833333</td>\n",
       "      <td>5</td>\n",
       "      <td>0.000000</td>\n",
       "      <td>5.0</td>\n",
       "      <td>1.00</td>\n",
       "      <td>0.458333</td>\n",
       "    </tr>\n",
       "    <tr>\n",
       "      <th>3</th>\n",
       "      <td>4</td>\n",
       "      <td>10</td>\n",
       "      <td>0.750000</td>\n",
       "      <td>106</td>\n",
       "      <td>0.990196</td>\n",
       "      <td>4.8</td>\n",
       "      <td>0.50</td>\n",
       "      <td>0.807598</td>\n",
       "    </tr>\n",
       "    <tr>\n",
       "      <th>4</th>\n",
       "      <td>5</td>\n",
       "      <td>9</td>\n",
       "      <td>0.666667</td>\n",
       "      <td>6</td>\n",
       "      <td>0.009804</td>\n",
       "      <td>5.0</td>\n",
       "      <td>1.00</td>\n",
       "      <td>0.421569</td>\n",
       "    </tr>\n",
       "    <tr>\n",
       "      <th>5</th>\n",
       "      <td>1</td>\n",
       "      <td>13</td>\n",
       "      <td>1.000000</td>\n",
       "      <td>107</td>\n",
       "      <td>1.000000</td>\n",
       "      <td>4.9</td>\n",
       "      <td>0.75</td>\n",
       "      <td>0.937500</td>\n",
       "    </tr>\n",
       "    <tr>\n",
       "      <th>6</th>\n",
       "      <td>3</td>\n",
       "      <td>11</td>\n",
       "      <td>0.833333</td>\n",
       "      <td>19</td>\n",
       "      <td>0.137255</td>\n",
       "      <td>4.6</td>\n",
       "      <td>0.00</td>\n",
       "      <td>0.276961</td>\n",
       "    </tr>\n",
       "    <tr>\n",
       "      <th>7</th>\n",
       "      <td>8</td>\n",
       "      <td>6</td>\n",
       "      <td>0.416667</td>\n",
       "      <td>19</td>\n",
       "      <td>0.137255</td>\n",
       "      <td>5.0</td>\n",
       "      <td>1.00</td>\n",
       "      <td>0.422794</td>\n",
       "    </tr>\n",
       "    <tr>\n",
       "      <th>8</th>\n",
       "      <td>9</td>\n",
       "      <td>5</td>\n",
       "      <td>0.333333</td>\n",
       "      <td>31</td>\n",
       "      <td>0.254902</td>\n",
       "      <td>4.9</td>\n",
       "      <td>0.75</td>\n",
       "      <td>0.398284</td>\n",
       "    </tr>\n",
       "    <tr>\n",
       "      <th>9</th>\n",
       "      <td>12</td>\n",
       "      <td>2</td>\n",
       "      <td>0.083333</td>\n",
       "      <td>5</td>\n",
       "      <td>0.000000</td>\n",
       "      <td>4.8</td>\n",
       "      <td>0.50</td>\n",
       "      <td>0.145833</td>\n",
       "    </tr>\n",
       "    <tr>\n",
       "      <th>10</th>\n",
       "      <td>13</td>\n",
       "      <td>1</td>\n",
       "      <td>0.000000</td>\n",
       "      <td>61</td>\n",
       "      <td>0.549020</td>\n",
       "      <td>4.9</td>\n",
       "      <td>0.75</td>\n",
       "      <td>0.462010</td>\n",
       "    </tr>\n",
       "    <tr>\n",
       "      <th>11</th>\n",
       "      <td>4</td>\n",
       "      <td>10</td>\n",
       "      <td>0.750000</td>\n",
       "      <td>8</td>\n",
       "      <td>0.029412</td>\n",
       "      <td>5.0</td>\n",
       "      <td>1.00</td>\n",
       "      <td>0.452206</td>\n",
       "    </tr>\n",
       "    <tr>\n",
       "      <th>12</th>\n",
       "      <td>1</td>\n",
       "      <td>13</td>\n",
       "      <td>1.000000</td>\n",
       "      <td>21</td>\n",
       "      <td>0.156863</td>\n",
       "      <td>5.0</td>\n",
       "      <td>1.00</td>\n",
       "      <td>0.578431</td>\n",
       "    </tr>\n",
       "    <tr>\n",
       "      <th>13</th>\n",
       "      <td>3</td>\n",
       "      <td>11</td>\n",
       "      <td>0.833333</td>\n",
       "      <td>14</td>\n",
       "      <td>0.088235</td>\n",
       "      <td>4.6</td>\n",
       "      <td>0.00</td>\n",
       "      <td>0.252451</td>\n",
       "    </tr>\n",
       "    <tr>\n",
       "      <th>14</th>\n",
       "      <td>4</td>\n",
       "      <td>10</td>\n",
       "      <td>0.750000</td>\n",
       "      <td>64</td>\n",
       "      <td>0.578431</td>\n",
       "      <td>4.7</td>\n",
       "      <td>0.25</td>\n",
       "      <td>0.539216</td>\n",
       "    </tr>\n",
       "    <tr>\n",
       "      <th>15</th>\n",
       "      <td>5</td>\n",
       "      <td>9</td>\n",
       "      <td>0.666667</td>\n",
       "      <td>18</td>\n",
       "      <td>0.127451</td>\n",
       "      <td>4.9</td>\n",
       "      <td>0.75</td>\n",
       "      <td>0.417892</td>\n",
       "    </tr>\n",
       "    <tr>\n",
       "      <th>16</th>\n",
       "      <td>5</td>\n",
       "      <td>9</td>\n",
       "      <td>0.666667</td>\n",
       "      <td>5</td>\n",
       "      <td>0.000000</td>\n",
       "      <td>5.0</td>\n",
       "      <td>1.00</td>\n",
       "      <td>0.416667</td>\n",
       "    </tr>\n",
       "    <tr>\n",
       "      <th>17</th>\n",
       "      <td>6</td>\n",
       "      <td>8</td>\n",
       "      <td>0.583333</td>\n",
       "      <td>21</td>\n",
       "      <td>0.156863</td>\n",
       "      <td>4.8</td>\n",
       "      <td>0.50</td>\n",
       "      <td>0.349265</td>\n",
       "    </tr>\n",
       "    <tr>\n",
       "      <th>18</th>\n",
       "      <td>10</td>\n",
       "      <td>4</td>\n",
       "      <td>0.250000</td>\n",
       "      <td>11</td>\n",
       "      <td>0.058824</td>\n",
       "      <td>5.0</td>\n",
       "      <td>1.00</td>\n",
       "      <td>0.341912</td>\n",
       "    </tr>\n",
       "    <tr>\n",
       "      <th>19</th>\n",
       "      <td>11</td>\n",
       "      <td>3</td>\n",
       "      <td>0.166667</td>\n",
       "      <td>5</td>\n",
       "      <td>0.000000</td>\n",
       "      <td>5.0</td>\n",
       "      <td>1.00</td>\n",
       "      <td>0.291667</td>\n",
       "    </tr>\n",
       "  </tbody>\n",
       "</table>\n",
       "</div>"
      ],
      "text/plain": [
       "    Rank On Google  Inverted Rank  Normalized Rank  Reviews  \\\n",
       "0                1             13         1.000000       45   \n",
       "1                2             12         0.916667       48   \n",
       "2                3             11         0.833333        5   \n",
       "3                4             10         0.750000      106   \n",
       "4                5              9         0.666667        6   \n",
       "5                1             13         1.000000      107   \n",
       "6                3             11         0.833333       19   \n",
       "7                8              6         0.416667       19   \n",
       "8                9              5         0.333333       31   \n",
       "9               12              2         0.083333        5   \n",
       "10              13              1         0.000000       61   \n",
       "11               4             10         0.750000        8   \n",
       "12               1             13         1.000000       21   \n",
       "13               3             11         0.833333       14   \n",
       "14               4             10         0.750000       64   \n",
       "15               5              9         0.666667       18   \n",
       "16               5              9         0.666667        5   \n",
       "17               6              8         0.583333       21   \n",
       "18              10              4         0.250000       11   \n",
       "19              11              3         0.166667        5   \n",
       "\n",
       "    Normalized Reviews  Rating  Normalized Rating  Combined Reviews Score  \n",
       "0             0.392157     4.9               0.75                0.633578  \n",
       "1             0.421569     4.9               0.75                0.627451  \n",
       "2             0.000000     5.0               1.00                0.458333  \n",
       "3             0.990196     4.8               0.50                0.807598  \n",
       "4             0.009804     5.0               1.00                0.421569  \n",
       "5             1.000000     4.9               0.75                0.937500  \n",
       "6             0.137255     4.6               0.00                0.276961  \n",
       "7             0.137255     5.0               1.00                0.422794  \n",
       "8             0.254902     4.9               0.75                0.398284  \n",
       "9             0.000000     4.8               0.50                0.145833  \n",
       "10            0.549020     4.9               0.75                0.462010  \n",
       "11            0.029412     5.0               1.00                0.452206  \n",
       "12            0.156863     5.0               1.00                0.578431  \n",
       "13            0.088235     4.6               0.00                0.252451  \n",
       "14            0.578431     4.7               0.25                0.539216  \n",
       "15            0.127451     4.9               0.75                0.417892  \n",
       "16            0.000000     5.0               1.00                0.416667  \n",
       "17            0.156863     4.8               0.50                0.349265  \n",
       "18            0.058824     5.0               1.00                0.341912  \n",
       "19            0.000000     5.0               1.00                0.291667  "
      ]
     },
     "execution_count": 14,
     "metadata": {},
     "output_type": "execute_result"
    }
   ],
   "source": [
    "data['Inverted Rank'] = data['Rank On Google'].max() - data['Rank On Google'] + 1\n",
    "\n",
    "data['Normalized Rank'] = (data['Inverted Rank'] - data['Inverted Rank'].min()) / (data['Inverted Rank'].max() - data['Inverted Rank'].min())\n",
    "\n",
    "data['Normalized Reviews'] = (data['Reviews'] - data['Reviews'].min()) / (data['Reviews'].max() - data['Reviews'].min())\n",
    "data['Normalized Rating'] = (data['Rating'] - data['Rating'].min()) / (data['Rating'].max() - data['Rating'].min())\n",
    "\n",
    "rank_weight = 0.25\n",
    "reviews_weight = 0.5\n",
    "rating_weight = 0.25\n",
    "\n",
    "data['Combined Reviews Score'] = (\n",
    "    rank_weight * data['Normalized Rank'] +\n",
    "    reviews_weight * data['Normalized Reviews'] +\n",
    "    rating_weight * data['Normalized Rating']\n",
    ")\n",
    "\n",
    "data[['Rank On Google', 'Inverted Rank', 'Normalized Rank', 'Reviews', 'Normalized Reviews', 'Rating', 'Normalized Rating', 'Combined Reviews Score']]\n"
   ]
  },
  {
   "cell_type": "code",
   "execution_count": 15,
   "metadata": {},
   "outputs": [],
   "source": [
    "weights = {\n",
    "    'Domain_Strength_10': 0.1,      \n",
    "    'SEO_Backlink_Score_5': 0.1,  \n",
    "    'Page_load_time_5': 0.1, \n",
    "    'Total Engagement Score': 0.4,\n",
    "    'Combined Reviews Score': 0.3  \n",
    "}\n",
    "\n",
    "final_score_components = [\n",
    "    'Domain_Strength_10', 'SEO_Backlink_Score_5', 'Page_load_time_5',\n",
    "    'Total Engagement Score', 'Combined Reviews Score'\n",
    "]\n",
    "data[final_score_components] = scaler.fit_transform(data[final_score_components])\n",
    "\n",
    "data['Final Score'] = (\n",
    "    weights['Domain_Strength_10'] * data['Domain_Strength_10'] +\n",
    "    weights['SEO_Backlink_Score_5'] * data['SEO_Backlink_Score_5'] +\n",
    "    weights['Page_load_time_5'] * data['Page_load_time_5'] +\n",
    "    weights['Total Engagement Score'] * data['Total Engagement Score'] +\n",
    "    weights['Combined Reviews Score'] * data['Combined Reviews Score']\n",
    ")\n",
    "data['Normalized Final Score'] = data[final_score_components].sum(axis=1)\n",
    "\n",
    "data['Normalized Final Score'] = scaler.fit_transform(data[['Normalized Final Score']])\n"
   ]
  },
  {
   "cell_type": "code",
   "execution_count": 16,
   "metadata": {},
   "outputs": [
    {
     "data": {
      "application/vnd.plotly.v1+json": {
       "config": {
        "plotlyServerURL": "https://plot.ly"
       },
       "data": [
        {
         "alignmentgroup": "True",
         "hovertemplate": "Competitor=Lentarex Ltd - Port Harcourt<br>Social Media Platform=%{x}<br>Score=%{y}<extra></extra>",
         "legendgroup": "Lentarex Ltd - Port Harcourt",
         "marker": {
          "color": "#636efa",
          "pattern": {
           "shape": ""
          }
         },
         "name": "Lentarex Ltd - Port Harcourt",
         "offsetgroup": "Lentarex Ltd - Port Harcourt",
         "orientation": "v",
         "showlegend": true,
         "textposition": "auto",
         "type": "bar",
         "x": [
          "X Engagement Score",
          "IG Engagement Score",
          "Youtube Engagement Score",
          "Facebook Engagement Score",
          "LinkedIn Engagement Score",
          "Dribbble Engagement Score"
         ],
         "xaxis": "x",
         "y": [
          0,
          0.027988063249276558,
          0,
          0.00026872448979591837,
          0,
          0
         ],
         "yaxis": "y"
        },
        {
         "alignmentgroup": "True",
         "hovertemplate": "Competitor=Ani David<br>Social Media Platform=%{x}<br>Score=%{y}<extra></extra>",
         "legendgroup": "Ani David",
         "marker": {
          "color": "#EF553B",
          "pattern": {
           "shape": ""
          }
         },
         "name": "Ani David",
         "offsetgroup": "Ani David",
         "orientation": "v",
         "showlegend": true,
         "textposition": "auto",
         "type": "bar",
         "x": [
          "X Engagement Score",
          "IG Engagement Score",
          "Youtube Engagement Score",
          "Facebook Engagement Score",
          "LinkedIn Engagement Score",
          "Dribbble Engagement Score"
         ],
         "xaxis": "x",
         "y": [
          0,
          0.0015654195948739149,
          4.625317395740782e-7,
          0,
          0.16666666666666666,
          0
         ],
         "yaxis": "y"
        },
        {
         "alignmentgroup": "True",
         "hovertemplate": "Competitor=Digweb Experts<br>Social Media Platform=%{x}<br>Score=%{y}<extra></extra>",
         "legendgroup": "Digweb Experts",
         "marker": {
          "color": "#00cc96",
          "pattern": {
           "shape": ""
          }
         },
         "name": "Digweb Experts",
         "offsetgroup": "Digweb Experts",
         "orientation": "v",
         "showlegend": true,
         "textposition": "auto",
         "type": "bar",
         "x": [
          "X Engagement Score",
          "IG Engagement Score",
          "Youtube Engagement Score",
          "Facebook Engagement Score",
          "LinkedIn Engagement Score",
          "Dribbble Engagement Score"
         ],
         "xaxis": "x",
         "y": [
          0,
          0,
          0,
          0.000002693877551020408,
          0,
          0
         ],
         "yaxis": "y"
        },
        {
         "alignmentgroup": "True",
         "hovertemplate": "Competitor=Eloti Designs<br>Social Media Platform=%{x}<br>Score=%{y}<extra></extra>",
         "legendgroup": "Eloti Designs",
         "marker": {
          "color": "#ab63fa",
          "pattern": {
           "shape": ""
          }
         },
         "name": "Eloti Designs",
         "offsetgroup": "Eloti Designs",
         "orientation": "v",
         "showlegend": true,
         "textposition": "auto",
         "type": "bar",
         "x": [
          "X Engagement Score",
          "IG Engagement Score",
          "Youtube Engagement Score",
          "Facebook Engagement Score",
          "LinkedIn Engagement Score",
          "Dribbble Engagement Score"
         ],
         "xaxis": "x",
         "y": [
          0,
          0,
          0,
          0.0017908163265306124,
          0.06166666666666666,
          0
         ],
         "yaxis": "y"
        },
        {
         "alignmentgroup": "True",
         "hovertemplate": "Competitor=SilvaCreate<br>Social Media Platform=%{x}<br>Score=%{y}<extra></extra>",
         "legendgroup": "SilvaCreate",
         "marker": {
          "color": "#FFA15A",
          "pattern": {
           "shape": ""
          }
         },
         "name": "SilvaCreate",
         "offsetgroup": "SilvaCreate",
         "orientation": "v",
         "showlegend": true,
         "textposition": "auto",
         "type": "bar",
         "x": [
          "X Engagement Score",
          "IG Engagement Score",
          "Youtube Engagement Score",
          "Facebook Engagement Score",
          "LinkedIn Engagement Score",
          "Dribbble Engagement Score"
         ],
         "xaxis": "x",
         "y": [
          0,
          0.005809864613476642,
          7.976649857153357e-10,
          0.0009922040816326531,
          0.06166666666666666,
          0
         ],
         "yaxis": "y"
        },
        {
         "alignmentgroup": "True",
         "hovertemplate": "Competitor=MEL-Technologies<br>Social Media Platform=%{x}<br>Score=%{y}<extra></extra>",
         "legendgroup": "MEL-Technologies",
         "marker": {
          "color": "#19d3f3",
          "pattern": {
           "shape": ""
          }
         },
         "name": "MEL-Technologies",
         "offsetgroup": "MEL-Technologies",
         "orientation": "v",
         "showlegend": true,
         "textposition": "auto",
         "type": "bar",
         "x": [
          "X Engagement Score",
          "IG Engagement Score",
          "Youtube Engagement Score",
          "Facebook Engagement Score",
          "LinkedIn Engagement Score",
          "Dribbble Engagement Score"
         ],
         "xaxis": "x",
         "y": [
          0.07829204067165405,
          0.06487081438610996,
          0,
          0.018418367346938778,
          0,
          0
         ],
         "yaxis": "y"
        },
        {
         "alignmentgroup": "True",
         "hovertemplate": "Competitor=Mobirevo<br>Social Media Platform=%{x}<br>Score=%{y}<extra></extra>",
         "legendgroup": "Mobirevo",
         "marker": {
          "color": "#FF6692",
          "pattern": {
           "shape": ""
          }
         },
         "name": "Mobirevo",
         "offsetgroup": "Mobirevo",
         "orientation": "v",
         "showlegend": true,
         "textposition": "auto",
         "type": "bar",
         "x": [
          "X Engagement Score",
          "IG Engagement Score",
          "Youtube Engagement Score",
          "Facebook Engagement Score",
          "LinkedIn Engagement Score",
          "Dribbble Engagement Score"
         ],
         "xaxis": "x",
         "y": [
          0.7488274641834087,
          0.9035819553534519,
          0,
          1,
          1,
          1
         ],
         "yaxis": "y"
        },
        {
         "alignmentgroup": "True",
         "hovertemplate": "Competitor=Pivva Technologies<br>Social Media Platform=%{x}<br>Score=%{y}<extra></extra>",
         "legendgroup": "Pivva Technologies",
         "marker": {
          "color": "#B6E880",
          "pattern": {
           "shape": ""
          }
         },
         "name": "Pivva Technologies",
         "offsetgroup": "Pivva Technologies",
         "orientation": "v",
         "showlegend": true,
         "textposition": "auto",
         "type": "bar",
         "x": [
          "X Engagement Score",
          "IG Engagement Score",
          "Youtube Engagement Score",
          "Facebook Engagement Score",
          "LinkedIn Engagement Score",
          "Dribbble Engagement Score"
         ],
         "xaxis": "x",
         "y": [
          0,
          0.7291287076271187,
          0,
          0.0011975510204081633,
          0.16666666666666666,
          0
         ],
         "yaxis": "y"
        },
        {
         "alignmentgroup": "True",
         "hovertemplate": "Competitor=Lightech - I.T Firm<br>Social Media Platform=%{x}<br>Score=%{y}<extra></extra>",
         "legendgroup": "Lightech - I.T Firm",
         "marker": {
          "color": "#FF97FF",
          "pattern": {
           "shape": ""
          }
         },
         "name": "Lightech - I.T Firm",
         "offsetgroup": "Lightech - I.T Firm",
         "orientation": "v",
         "showlegend": true,
         "textposition": "auto",
         "type": "bar",
         "x": [
          "X Engagement Score",
          "IG Engagement Score",
          "Youtube Engagement Score",
          "Facebook Engagement Score",
          "LinkedIn Engagement Score",
          "Dribbble Engagement Score"
         ],
         "xaxis": "x",
         "y": [
          0,
          0.0999424348904506,
          0,
          0.0009343622448979592,
          0.06266666666666666,
          0
         ],
         "yaxis": "y"
        },
        {
         "alignmentgroup": "True",
         "hovertemplate": "Competitor=Classicweb<br>Social Media Platform=%{x}<br>Score=%{y}<extra></extra>",
         "legendgroup": "Classicweb",
         "marker": {
          "color": "#FECB52",
          "pattern": {
           "shape": ""
          }
         },
         "name": "Classicweb",
         "offsetgroup": "Classicweb",
         "orientation": "v",
         "showlegend": true,
         "textposition": "auto",
         "type": "bar",
         "x": [
          "X Engagement Score",
          "IG Engagement Score",
          "Youtube Engagement Score",
          "Facebook Engagement Score",
          "LinkedIn Engagement Score",
          "Dribbble Engagement Score"
         ],
         "xaxis": "x",
         "y": [
          0.08366073860310949,
          0,
          0.00001364007125573224,
          0.0012678571428571428,
          0,
          0
         ],
         "yaxis": "y"
        },
        {
         "alignmentgroup": "True",
         "hovertemplate": "Competitor=Rewod Technologies<br>Social Media Platform=%{x}<br>Score=%{y}<extra></extra>",
         "legendgroup": "Rewod Technologies",
         "marker": {
          "color": "#636efa",
          "pattern": {
           "shape": ""
          }
         },
         "name": "Rewod Technologies",
         "offsetgroup": "Rewod Technologies",
         "orientation": "v",
         "showlegend": true,
         "textposition": "auto",
         "type": "bar",
         "x": [
          "X Engagement Score",
          "IG Engagement Score",
          "Youtube Engagement Score",
          "Facebook Engagement Score",
          "LinkedIn Engagement Score",
          "Dribbble Engagement Score"
         ],
         "xaxis": "x",
         "y": [
          0.0007275890697739348,
          0.019112443158329887,
          0.0014855585067564696,
          0,
          0.11733333333333333,
          0
         ],
         "yaxis": "y"
        },
        {
         "alignmentgroup": "True",
         "hovertemplate": "Competitor=inMotion Hub<br>Social Media Platform=%{x}<br>Score=%{y}<extra></extra>",
         "legendgroup": "inMotion Hub",
         "marker": {
          "color": "#EF553B",
          "pattern": {
           "shape": ""
          }
         },
         "name": "inMotion Hub",
         "offsetgroup": "inMotion Hub",
         "orientation": "v",
         "showlegend": true,
         "textposition": "auto",
         "type": "bar",
         "x": [
          "X Engagement Score",
          "IG Engagement Score",
          "Youtube Engagement Score",
          "Facebook Engagement Score",
          "LinkedIn Engagement Score",
          "Dribbble Engagement Score"
         ],
         "xaxis": "x",
         "y": [
          0.001615427610247074,
          0.13334177346010748,
          0,
          5.306122448979592e-7,
          0,
          0
         ],
         "yaxis": "y"
        },
        {
         "alignmentgroup": "True",
         "hovertemplate": "Competitor=Drivecrowd<br>Social Media Platform=%{x}<br>Score=%{y}<extra></extra>",
         "legendgroup": "Drivecrowd",
         "marker": {
          "color": "#00cc96",
          "pattern": {
           "shape": ""
          }
         },
         "name": "Drivecrowd",
         "offsetgroup": "Drivecrowd",
         "orientation": "v",
         "showlegend": true,
         "textposition": "auto",
         "type": "bar",
         "x": [
          "X Engagement Score",
          "IG Engagement Score",
          "Youtube Engagement Score",
          "Facebook Engagement Score",
          "LinkedIn Engagement Score",
          "Dribbble Engagement Score"
         ],
         "xaxis": "x",
         "y": [
          0.0777446869297955,
          1,
          0,
          0.01272857142857143,
          0.05466666666666666,
          0
         ],
         "yaxis": "y"
        },
        {
         "alignmentgroup": "True",
         "hovertemplate": "Competitor=DDBA<br>Social Media Platform=%{x}<br>Score=%{y}<extra></extra>",
         "legendgroup": "DDBA",
         "marker": {
          "color": "#ab63fa",
          "pattern": {
           "shape": ""
          }
         },
         "name": "DDBA",
         "offsetgroup": "DDBA",
         "orientation": "v",
         "showlegend": true,
         "textposition": "auto",
         "type": "bar",
         "x": [
          "X Engagement Score",
          "IG Engagement Score",
          "Youtube Engagement Score",
          "Facebook Engagement Score",
          "LinkedIn Engagement Score",
          "Dribbble Engagement Score"
         ],
         "xaxis": "x",
         "y": [
          0.013383517036751396,
          0.1877073170731707,
          9.688211012216833e-7,
          0.0017300816326530613,
          0.016,
          0
         ],
         "yaxis": "y"
        },
        {
         "alignmentgroup": "True",
         "hovertemplate": "Competitor=Clarylife Global<br>Social Media Platform=%{x}<br>Score=%{y}<extra></extra>",
         "legendgroup": "Clarylife Global",
         "marker": {
          "color": "#FFA15A",
          "pattern": {
           "shape": ""
          }
         },
         "name": "Clarylife Global",
         "offsetgroup": "Clarylife Global",
         "orientation": "v",
         "showlegend": true,
         "textposition": "auto",
         "type": "bar",
         "x": [
          "X Engagement Score",
          "IG Engagement Score",
          "Youtube Engagement Score",
          "Facebook Engagement Score",
          "LinkedIn Engagement Score",
          "Dribbble Engagement Score"
         ],
         "xaxis": "x",
         "y": [
          0.20695425533490308,
          0.618824720959074,
          0,
          0.02142857142857143,
          0.09033333333333333,
          0
         ],
         "yaxis": "y"
        },
        {
         "alignmentgroup": "True",
         "hovertemplate": "Competitor=CareerEx<br>Social Media Platform=%{x}<br>Score=%{y}<extra></extra>",
         "legendgroup": "CareerEx",
         "marker": {
          "color": "#19d3f3",
          "pattern": {
           "shape": ""
          }
         },
         "name": "CareerEx",
         "offsetgroup": "CareerEx",
         "orientation": "v",
         "showlegend": true,
         "textposition": "auto",
         "type": "bar",
         "x": [
          "X Engagement Score",
          "IG Engagement Score",
          "Youtube Engagement Score",
          "Facebook Engagement Score",
          "LinkedIn Engagement Score",
          "Dribbble Engagement Score"
         ],
         "xaxis": "x",
         "y": [
          1,
          0.6537091773460108,
          1,
          0.0007273265306122449,
          0.6666666666666666,
          0
         ],
         "yaxis": "y"
        },
        {
         "alignmentgroup": "True",
         "hovertemplate": "Competitor=KISContent Digital Agency<br>Social Media Platform=%{x}<br>Score=%{y}<extra></extra>",
         "legendgroup": "KISContent Digital Agency",
         "marker": {
          "color": "#FF6692",
          "pattern": {
           "shape": ""
          }
         },
         "name": "KISContent Digital Agency",
         "offsetgroup": "KISContent Digital Agency",
         "orientation": "v",
         "showlegend": true,
         "textposition": "auto",
         "type": "bar",
         "x": [
          "X Engagement Score",
          "IG Engagement Score",
          "Youtube Engagement Score",
          "Facebook Engagement Score",
          "LinkedIn Engagement Score",
          "Dribbble Engagement Score"
         ],
         "xaxis": "x",
         "y": [
          0.005046466261980058,
          0.0846024312732534,
          9.435237259604256e-7,
          0.000010744897959183673,
          0.20466666666666666,
          0
         ],
         "yaxis": "y"
        },
        {
         "alignmentgroup": "True",
         "hovertemplate": "Competitor=BRISKITA<br>Social Media Platform=%{x}<br>Score=%{y}<extra></extra>",
         "legendgroup": "BRISKITA",
         "marker": {
          "color": "#B6E880",
          "pattern": {
           "shape": ""
          }
         },
         "name": "BRISKITA",
         "offsetgroup": "BRISKITA",
         "orientation": "v",
         "showlegend": true,
         "textposition": "auto",
         "type": "bar",
         "x": [
          "X Engagement Score",
          "IG Engagement Score",
          "Youtube Engagement Score",
          "Facebook Engagement Score",
          "LinkedIn Engagement Score",
          "Dribbble Engagement Score"
         ],
         "xaxis": "x",
         "y": [
          0.047012370721452305,
          0.010030126085159156,
          0,
          0.000003479591836734694,
          0.254,
          0
         ],
         "yaxis": "y"
        },
        {
         "alignmentgroup": "True",
         "hovertemplate": "Competitor=SDATA West Africa Limited<br>Social Media Platform=%{x}<br>Score=%{y}<extra></extra>",
         "legendgroup": "SDATA West Africa Limited",
         "marker": {
          "color": "#FF97FF",
          "pattern": {
           "shape": ""
          }
         },
         "name": "SDATA West Africa Limited",
         "offsetgroup": "SDATA West Africa Limited",
         "orientation": "v",
         "showlegend": true,
         "textposition": "auto",
         "type": "bar",
         "x": [
          "X Engagement Score",
          "IG Engagement Score",
          "Youtube Engagement Score",
          "Facebook Engagement Score",
          "LinkedIn Engagement Score",
          "Dribbble Engagement Score"
         ],
         "xaxis": "x",
         "y": [
          0,
          0,
          0,
          0.0006249948979591837,
          0.010666666666666666,
          0
         ],
         "yaxis": "y"
        },
        {
         "alignmentgroup": "True",
         "hovertemplate": "Competitor=Fortran House<br>Social Media Platform=%{x}<br>Score=%{y}<extra></extra>",
         "legendgroup": "Fortran House",
         "marker": {
          "color": "#FECB52",
          "pattern": {
           "shape": ""
          }
         },
         "name": "Fortran House",
         "offsetgroup": "Fortran House",
         "orientation": "v",
         "showlegend": true,
         "textposition": "auto",
         "type": "bar",
         "x": [
          "X Engagement Score",
          "IG Engagement Score",
          "Youtube Engagement Score",
          "Facebook Engagement Score",
          "LinkedIn Engagement Score",
          "Dribbble Engagement Score"
         ],
         "xaxis": "x",
         "y": [
          0,
          0.16055549813972714,
          0,
          0.008622448979591838,
          0.016,
          0
         ],
         "yaxis": "y"
        }
       ],
       "layout": {
        "barmode": "group",
        "legend": {
         "title": {
          "text": "Competitor"
         },
         "tracegroupgap": 0
        },
        "template": {
         "data": {
          "bar": [
           {
            "error_x": {
             "color": "#2a3f5f"
            },
            "error_y": {
             "color": "#2a3f5f"
            },
            "marker": {
             "line": {
              "color": "#E5ECF6",
              "width": 0.5
             },
             "pattern": {
              "fillmode": "overlay",
              "size": 10,
              "solidity": 0.2
             }
            },
            "type": "bar"
           }
          ],
          "barpolar": [
           {
            "marker": {
             "line": {
              "color": "#E5ECF6",
              "width": 0.5
             },
             "pattern": {
              "fillmode": "overlay",
              "size": 10,
              "solidity": 0.2
             }
            },
            "type": "barpolar"
           }
          ],
          "carpet": [
           {
            "aaxis": {
             "endlinecolor": "#2a3f5f",
             "gridcolor": "white",
             "linecolor": "white",
             "minorgridcolor": "white",
             "startlinecolor": "#2a3f5f"
            },
            "baxis": {
             "endlinecolor": "#2a3f5f",
             "gridcolor": "white",
             "linecolor": "white",
             "minorgridcolor": "white",
             "startlinecolor": "#2a3f5f"
            },
            "type": "carpet"
           }
          ],
          "choropleth": [
           {
            "colorbar": {
             "outlinewidth": 0,
             "ticks": ""
            },
            "type": "choropleth"
           }
          ],
          "contour": [
           {
            "colorbar": {
             "outlinewidth": 0,
             "ticks": ""
            },
            "colorscale": [
             [
              0,
              "#0d0887"
             ],
             [
              0.1111111111111111,
              "#46039f"
             ],
             [
              0.2222222222222222,
              "#7201a8"
             ],
             [
              0.3333333333333333,
              "#9c179e"
             ],
             [
              0.4444444444444444,
              "#bd3786"
             ],
             [
              0.5555555555555556,
              "#d8576b"
             ],
             [
              0.6666666666666666,
              "#ed7953"
             ],
             [
              0.7777777777777778,
              "#fb9f3a"
             ],
             [
              0.8888888888888888,
              "#fdca26"
             ],
             [
              1,
              "#f0f921"
             ]
            ],
            "type": "contour"
           }
          ],
          "contourcarpet": [
           {
            "colorbar": {
             "outlinewidth": 0,
             "ticks": ""
            },
            "type": "contourcarpet"
           }
          ],
          "heatmap": [
           {
            "colorbar": {
             "outlinewidth": 0,
             "ticks": ""
            },
            "colorscale": [
             [
              0,
              "#0d0887"
             ],
             [
              0.1111111111111111,
              "#46039f"
             ],
             [
              0.2222222222222222,
              "#7201a8"
             ],
             [
              0.3333333333333333,
              "#9c179e"
             ],
             [
              0.4444444444444444,
              "#bd3786"
             ],
             [
              0.5555555555555556,
              "#d8576b"
             ],
             [
              0.6666666666666666,
              "#ed7953"
             ],
             [
              0.7777777777777778,
              "#fb9f3a"
             ],
             [
              0.8888888888888888,
              "#fdca26"
             ],
             [
              1,
              "#f0f921"
             ]
            ],
            "type": "heatmap"
           }
          ],
          "heatmapgl": [
           {
            "colorbar": {
             "outlinewidth": 0,
             "ticks": ""
            },
            "colorscale": [
             [
              0,
              "#0d0887"
             ],
             [
              0.1111111111111111,
              "#46039f"
             ],
             [
              0.2222222222222222,
              "#7201a8"
             ],
             [
              0.3333333333333333,
              "#9c179e"
             ],
             [
              0.4444444444444444,
              "#bd3786"
             ],
             [
              0.5555555555555556,
              "#d8576b"
             ],
             [
              0.6666666666666666,
              "#ed7953"
             ],
             [
              0.7777777777777778,
              "#fb9f3a"
             ],
             [
              0.8888888888888888,
              "#fdca26"
             ],
             [
              1,
              "#f0f921"
             ]
            ],
            "type": "heatmapgl"
           }
          ],
          "histogram": [
           {
            "marker": {
             "pattern": {
              "fillmode": "overlay",
              "size": 10,
              "solidity": 0.2
             }
            },
            "type": "histogram"
           }
          ],
          "histogram2d": [
           {
            "colorbar": {
             "outlinewidth": 0,
             "ticks": ""
            },
            "colorscale": [
             [
              0,
              "#0d0887"
             ],
             [
              0.1111111111111111,
              "#46039f"
             ],
             [
              0.2222222222222222,
              "#7201a8"
             ],
             [
              0.3333333333333333,
              "#9c179e"
             ],
             [
              0.4444444444444444,
              "#bd3786"
             ],
             [
              0.5555555555555556,
              "#d8576b"
             ],
             [
              0.6666666666666666,
              "#ed7953"
             ],
             [
              0.7777777777777778,
              "#fb9f3a"
             ],
             [
              0.8888888888888888,
              "#fdca26"
             ],
             [
              1,
              "#f0f921"
             ]
            ],
            "type": "histogram2d"
           }
          ],
          "histogram2dcontour": [
           {
            "colorbar": {
             "outlinewidth": 0,
             "ticks": ""
            },
            "colorscale": [
             [
              0,
              "#0d0887"
             ],
             [
              0.1111111111111111,
              "#46039f"
             ],
             [
              0.2222222222222222,
              "#7201a8"
             ],
             [
              0.3333333333333333,
              "#9c179e"
             ],
             [
              0.4444444444444444,
              "#bd3786"
             ],
             [
              0.5555555555555556,
              "#d8576b"
             ],
             [
              0.6666666666666666,
              "#ed7953"
             ],
             [
              0.7777777777777778,
              "#fb9f3a"
             ],
             [
              0.8888888888888888,
              "#fdca26"
             ],
             [
              1,
              "#f0f921"
             ]
            ],
            "type": "histogram2dcontour"
           }
          ],
          "mesh3d": [
           {
            "colorbar": {
             "outlinewidth": 0,
             "ticks": ""
            },
            "type": "mesh3d"
           }
          ],
          "parcoords": [
           {
            "line": {
             "colorbar": {
              "outlinewidth": 0,
              "ticks": ""
             }
            },
            "type": "parcoords"
           }
          ],
          "pie": [
           {
            "automargin": true,
            "type": "pie"
           }
          ],
          "scatter": [
           {
            "fillpattern": {
             "fillmode": "overlay",
             "size": 10,
             "solidity": 0.2
            },
            "type": "scatter"
           }
          ],
          "scatter3d": [
           {
            "line": {
             "colorbar": {
              "outlinewidth": 0,
              "ticks": ""
             }
            },
            "marker": {
             "colorbar": {
              "outlinewidth": 0,
              "ticks": ""
             }
            },
            "type": "scatter3d"
           }
          ],
          "scattercarpet": [
           {
            "marker": {
             "colorbar": {
              "outlinewidth": 0,
              "ticks": ""
             }
            },
            "type": "scattercarpet"
           }
          ],
          "scattergeo": [
           {
            "marker": {
             "colorbar": {
              "outlinewidth": 0,
              "ticks": ""
             }
            },
            "type": "scattergeo"
           }
          ],
          "scattergl": [
           {
            "marker": {
             "colorbar": {
              "outlinewidth": 0,
              "ticks": ""
             }
            },
            "type": "scattergl"
           }
          ],
          "scattermapbox": [
           {
            "marker": {
             "colorbar": {
              "outlinewidth": 0,
              "ticks": ""
             }
            },
            "type": "scattermapbox"
           }
          ],
          "scatterpolar": [
           {
            "marker": {
             "colorbar": {
              "outlinewidth": 0,
              "ticks": ""
             }
            },
            "type": "scatterpolar"
           }
          ],
          "scatterpolargl": [
           {
            "marker": {
             "colorbar": {
              "outlinewidth": 0,
              "ticks": ""
             }
            },
            "type": "scatterpolargl"
           }
          ],
          "scatterternary": [
           {
            "marker": {
             "colorbar": {
              "outlinewidth": 0,
              "ticks": ""
             }
            },
            "type": "scatterternary"
           }
          ],
          "surface": [
           {
            "colorbar": {
             "outlinewidth": 0,
             "ticks": ""
            },
            "colorscale": [
             [
              0,
              "#0d0887"
             ],
             [
              0.1111111111111111,
              "#46039f"
             ],
             [
              0.2222222222222222,
              "#7201a8"
             ],
             [
              0.3333333333333333,
              "#9c179e"
             ],
             [
              0.4444444444444444,
              "#bd3786"
             ],
             [
              0.5555555555555556,
              "#d8576b"
             ],
             [
              0.6666666666666666,
              "#ed7953"
             ],
             [
              0.7777777777777778,
              "#fb9f3a"
             ],
             [
              0.8888888888888888,
              "#fdca26"
             ],
             [
              1,
              "#f0f921"
             ]
            ],
            "type": "surface"
           }
          ],
          "table": [
           {
            "cells": {
             "fill": {
              "color": "#EBF0F8"
             },
             "line": {
              "color": "white"
             }
            },
            "header": {
             "fill": {
              "color": "#C8D4E3"
             },
             "line": {
              "color": "white"
             }
            },
            "type": "table"
           }
          ]
         },
         "layout": {
          "annotationdefaults": {
           "arrowcolor": "#2a3f5f",
           "arrowhead": 0,
           "arrowwidth": 1
          },
          "autotypenumbers": "strict",
          "coloraxis": {
           "colorbar": {
            "outlinewidth": 0,
            "ticks": ""
           }
          },
          "colorscale": {
           "diverging": [
            [
             0,
             "#8e0152"
            ],
            [
             0.1,
             "#c51b7d"
            ],
            [
             0.2,
             "#de77ae"
            ],
            [
             0.3,
             "#f1b6da"
            ],
            [
             0.4,
             "#fde0ef"
            ],
            [
             0.5,
             "#f7f7f7"
            ],
            [
             0.6,
             "#e6f5d0"
            ],
            [
             0.7,
             "#b8e186"
            ],
            [
             0.8,
             "#7fbc41"
            ],
            [
             0.9,
             "#4d9221"
            ],
            [
             1,
             "#276419"
            ]
           ],
           "sequential": [
            [
             0,
             "#0d0887"
            ],
            [
             0.1111111111111111,
             "#46039f"
            ],
            [
             0.2222222222222222,
             "#7201a8"
            ],
            [
             0.3333333333333333,
             "#9c179e"
            ],
            [
             0.4444444444444444,
             "#bd3786"
            ],
            [
             0.5555555555555556,
             "#d8576b"
            ],
            [
             0.6666666666666666,
             "#ed7953"
            ],
            [
             0.7777777777777778,
             "#fb9f3a"
            ],
            [
             0.8888888888888888,
             "#fdca26"
            ],
            [
             1,
             "#f0f921"
            ]
           ],
           "sequentialminus": [
            [
             0,
             "#0d0887"
            ],
            [
             0.1111111111111111,
             "#46039f"
            ],
            [
             0.2222222222222222,
             "#7201a8"
            ],
            [
             0.3333333333333333,
             "#9c179e"
            ],
            [
             0.4444444444444444,
             "#bd3786"
            ],
            [
             0.5555555555555556,
             "#d8576b"
            ],
            [
             0.6666666666666666,
             "#ed7953"
            ],
            [
             0.7777777777777778,
             "#fb9f3a"
            ],
            [
             0.8888888888888888,
             "#fdca26"
            ],
            [
             1,
             "#f0f921"
            ]
           ]
          },
          "colorway": [
           "#636efa",
           "#EF553B",
           "#00cc96",
           "#ab63fa",
           "#FFA15A",
           "#19d3f3",
           "#FF6692",
           "#B6E880",
           "#FF97FF",
           "#FECB52"
          ],
          "font": {
           "color": "#2a3f5f"
          },
          "geo": {
           "bgcolor": "white",
           "lakecolor": "white",
           "landcolor": "#E5ECF6",
           "showlakes": true,
           "showland": true,
           "subunitcolor": "white"
          },
          "hoverlabel": {
           "align": "left"
          },
          "hovermode": "closest",
          "mapbox": {
           "style": "light"
          },
          "paper_bgcolor": "white",
          "plot_bgcolor": "#E5ECF6",
          "polar": {
           "angularaxis": {
            "gridcolor": "white",
            "linecolor": "white",
            "ticks": ""
           },
           "bgcolor": "#E5ECF6",
           "radialaxis": {
            "gridcolor": "white",
            "linecolor": "white",
            "ticks": ""
           }
          },
          "scene": {
           "xaxis": {
            "backgroundcolor": "#E5ECF6",
            "gridcolor": "white",
            "gridwidth": 2,
            "linecolor": "white",
            "showbackground": true,
            "ticks": "",
            "zerolinecolor": "white"
           },
           "yaxis": {
            "backgroundcolor": "#E5ECF6",
            "gridcolor": "white",
            "gridwidth": 2,
            "linecolor": "white",
            "showbackground": true,
            "ticks": "",
            "zerolinecolor": "white"
           },
           "zaxis": {
            "backgroundcolor": "#E5ECF6",
            "gridcolor": "white",
            "gridwidth": 2,
            "linecolor": "white",
            "showbackground": true,
            "ticks": "",
            "zerolinecolor": "white"
           }
          },
          "shapedefaults": {
           "line": {
            "color": "#2a3f5f"
           }
          },
          "ternary": {
           "aaxis": {
            "gridcolor": "white",
            "linecolor": "white",
            "ticks": ""
           },
           "baxis": {
            "gridcolor": "white",
            "linecolor": "white",
            "ticks": ""
           },
           "bgcolor": "#E5ECF6",
           "caxis": {
            "gridcolor": "white",
            "linecolor": "white",
            "ticks": ""
           }
          },
          "title": {
           "x": 0.05
          },
          "xaxis": {
           "automargin": true,
           "gridcolor": "white",
           "linecolor": "white",
           "ticks": "",
           "title": {
            "standoff": 15
           },
           "zerolinecolor": "white",
           "zerolinewidth": 2
          },
          "yaxis": {
           "automargin": true,
           "gridcolor": "white",
           "linecolor": "white",
           "ticks": "",
           "title": {
            "standoff": 15
           },
           "zerolinecolor": "white",
           "zerolinewidth": 2
          }
         }
        },
        "title": {
         "text": "Social Media Engagement by Platform"
        },
        "xaxis": {
         "anchor": "y",
         "domain": [
          0,
          1
         ],
         "title": {
          "text": "Social Media Platform"
         }
        },
        "yaxis": {
         "anchor": "x",
         "domain": [
          0,
          1
         ],
         "title": {
          "text": "Score"
         }
        }
       }
      }
     },
     "metadata": {},
     "output_type": "display_data"
    }
   ],
   "source": [
    "fig = px.bar(\n",
    "    engagement_data,\n",
    "    x='Social Media Platform',\n",
    "    y='Engagement Score',\n",
    "    color='Competition Name',\n",
    "    barmode='group',\n",
    "    title='Social Media Engagement by Platform',\n",
    "    labels={\"Competition Name\": \"Competitor\", \"Engagement Score\": \"Score\"}\n",
    ")\n",
    "fig.show()"
   ]
  },
  {
   "cell_type": "code",
   "execution_count": 17,
   "metadata": {},
   "outputs": [
    {
     "data": {
      "application/vnd.plotly.v1+json": {
       "config": {
        "plotlyServerURL": "https://plot.ly"
       },
       "data": [
        {
         "alignmentgroup": "True",
         "hovertemplate": "Competitor=%{x}<br>Final Score=%{marker.color}<extra></extra>",
         "legendgroup": "",
         "marker": {
          "color": [
           0.5459724009899196,
           0.47340299104346883,
           0.4409312401379972,
           0.3937592517895761,
           0.39367795104809766,
           0.3608337377176797,
           0.31718961878720686,
           0.2557860342110896,
           0.24652860513665042,
           0.2408742512689837
          ],
          "coloraxis": "coloraxis",
          "pattern": {
           "shape": ""
          }
         },
         "name": "",
         "offsetgroup": "",
         "orientation": "v",
         "showlegend": false,
         "textposition": "auto",
         "type": "bar",
         "x": [
          "Mobirevo",
          "MEL-Technologies",
          "Lentarex Ltd - Port Harcourt",
          "CareerEx",
          "Eloti Designs",
          "Clarylife Global",
          "Drivecrowd",
          "SilvaCreate",
          "Rewod Technologies",
          "Fortran House"
         ],
         "xaxis": "x",
         "y": [
          0.5459724009899196,
          0.47340299104346883,
          0.4409312401379972,
          0.3937592517895761,
          0.39367795104809766,
          0.3608337377176797,
          0.31718961878720686,
          0.2557860342110896,
          0.24652860513665042,
          0.2408742512689837
         ],
         "yaxis": "y"
        }
       ],
       "layout": {
        "barmode": "relative",
        "coloraxis": {
         "colorbar": {
          "title": {
           "text": "Final Score"
          }
         },
         "colorscale": [
          [
           0,
           "#0d0887"
          ],
          [
           0.1111111111111111,
           "#46039f"
          ],
          [
           0.2222222222222222,
           "#7201a8"
          ],
          [
           0.3333333333333333,
           "#9c179e"
          ],
          [
           0.4444444444444444,
           "#bd3786"
          ],
          [
           0.5555555555555556,
           "#d8576b"
          ],
          [
           0.6666666666666666,
           "#ed7953"
          ],
          [
           0.7777777777777778,
           "#fb9f3a"
          ],
          [
           0.8888888888888888,
           "#fdca26"
          ],
          [
           1,
           "#f0f921"
          ]
         ]
        },
        "legend": {
         "tracegroupgap": 0
        },
        "template": {
         "data": {
          "bar": [
           {
            "error_x": {
             "color": "#2a3f5f"
            },
            "error_y": {
             "color": "#2a3f5f"
            },
            "marker": {
             "line": {
              "color": "#E5ECF6",
              "width": 0.5
             },
             "pattern": {
              "fillmode": "overlay",
              "size": 10,
              "solidity": 0.2
             }
            },
            "type": "bar"
           }
          ],
          "barpolar": [
           {
            "marker": {
             "line": {
              "color": "#E5ECF6",
              "width": 0.5
             },
             "pattern": {
              "fillmode": "overlay",
              "size": 10,
              "solidity": 0.2
             }
            },
            "type": "barpolar"
           }
          ],
          "carpet": [
           {
            "aaxis": {
             "endlinecolor": "#2a3f5f",
             "gridcolor": "white",
             "linecolor": "white",
             "minorgridcolor": "white",
             "startlinecolor": "#2a3f5f"
            },
            "baxis": {
             "endlinecolor": "#2a3f5f",
             "gridcolor": "white",
             "linecolor": "white",
             "minorgridcolor": "white",
             "startlinecolor": "#2a3f5f"
            },
            "type": "carpet"
           }
          ],
          "choropleth": [
           {
            "colorbar": {
             "outlinewidth": 0,
             "ticks": ""
            },
            "type": "choropleth"
           }
          ],
          "contour": [
           {
            "colorbar": {
             "outlinewidth": 0,
             "ticks": ""
            },
            "colorscale": [
             [
              0,
              "#0d0887"
             ],
             [
              0.1111111111111111,
              "#46039f"
             ],
             [
              0.2222222222222222,
              "#7201a8"
             ],
             [
              0.3333333333333333,
              "#9c179e"
             ],
             [
              0.4444444444444444,
              "#bd3786"
             ],
             [
              0.5555555555555556,
              "#d8576b"
             ],
             [
              0.6666666666666666,
              "#ed7953"
             ],
             [
              0.7777777777777778,
              "#fb9f3a"
             ],
             [
              0.8888888888888888,
              "#fdca26"
             ],
             [
              1,
              "#f0f921"
             ]
            ],
            "type": "contour"
           }
          ],
          "contourcarpet": [
           {
            "colorbar": {
             "outlinewidth": 0,
             "ticks": ""
            },
            "type": "contourcarpet"
           }
          ],
          "heatmap": [
           {
            "colorbar": {
             "outlinewidth": 0,
             "ticks": ""
            },
            "colorscale": [
             [
              0,
              "#0d0887"
             ],
             [
              0.1111111111111111,
              "#46039f"
             ],
             [
              0.2222222222222222,
              "#7201a8"
             ],
             [
              0.3333333333333333,
              "#9c179e"
             ],
             [
              0.4444444444444444,
              "#bd3786"
             ],
             [
              0.5555555555555556,
              "#d8576b"
             ],
             [
              0.6666666666666666,
              "#ed7953"
             ],
             [
              0.7777777777777778,
              "#fb9f3a"
             ],
             [
              0.8888888888888888,
              "#fdca26"
             ],
             [
              1,
              "#f0f921"
             ]
            ],
            "type": "heatmap"
           }
          ],
          "heatmapgl": [
           {
            "colorbar": {
             "outlinewidth": 0,
             "ticks": ""
            },
            "colorscale": [
             [
              0,
              "#0d0887"
             ],
             [
              0.1111111111111111,
              "#46039f"
             ],
             [
              0.2222222222222222,
              "#7201a8"
             ],
             [
              0.3333333333333333,
              "#9c179e"
             ],
             [
              0.4444444444444444,
              "#bd3786"
             ],
             [
              0.5555555555555556,
              "#d8576b"
             ],
             [
              0.6666666666666666,
              "#ed7953"
             ],
             [
              0.7777777777777778,
              "#fb9f3a"
             ],
             [
              0.8888888888888888,
              "#fdca26"
             ],
             [
              1,
              "#f0f921"
             ]
            ],
            "type": "heatmapgl"
           }
          ],
          "histogram": [
           {
            "marker": {
             "pattern": {
              "fillmode": "overlay",
              "size": 10,
              "solidity": 0.2
             }
            },
            "type": "histogram"
           }
          ],
          "histogram2d": [
           {
            "colorbar": {
             "outlinewidth": 0,
             "ticks": ""
            },
            "colorscale": [
             [
              0,
              "#0d0887"
             ],
             [
              0.1111111111111111,
              "#46039f"
             ],
             [
              0.2222222222222222,
              "#7201a8"
             ],
             [
              0.3333333333333333,
              "#9c179e"
             ],
             [
              0.4444444444444444,
              "#bd3786"
             ],
             [
              0.5555555555555556,
              "#d8576b"
             ],
             [
              0.6666666666666666,
              "#ed7953"
             ],
             [
              0.7777777777777778,
              "#fb9f3a"
             ],
             [
              0.8888888888888888,
              "#fdca26"
             ],
             [
              1,
              "#f0f921"
             ]
            ],
            "type": "histogram2d"
           }
          ],
          "histogram2dcontour": [
           {
            "colorbar": {
             "outlinewidth": 0,
             "ticks": ""
            },
            "colorscale": [
             [
              0,
              "#0d0887"
             ],
             [
              0.1111111111111111,
              "#46039f"
             ],
             [
              0.2222222222222222,
              "#7201a8"
             ],
             [
              0.3333333333333333,
              "#9c179e"
             ],
             [
              0.4444444444444444,
              "#bd3786"
             ],
             [
              0.5555555555555556,
              "#d8576b"
             ],
             [
              0.6666666666666666,
              "#ed7953"
             ],
             [
              0.7777777777777778,
              "#fb9f3a"
             ],
             [
              0.8888888888888888,
              "#fdca26"
             ],
             [
              1,
              "#f0f921"
             ]
            ],
            "type": "histogram2dcontour"
           }
          ],
          "mesh3d": [
           {
            "colorbar": {
             "outlinewidth": 0,
             "ticks": ""
            },
            "type": "mesh3d"
           }
          ],
          "parcoords": [
           {
            "line": {
             "colorbar": {
              "outlinewidth": 0,
              "ticks": ""
             }
            },
            "type": "parcoords"
           }
          ],
          "pie": [
           {
            "automargin": true,
            "type": "pie"
           }
          ],
          "scatter": [
           {
            "fillpattern": {
             "fillmode": "overlay",
             "size": 10,
             "solidity": 0.2
            },
            "type": "scatter"
           }
          ],
          "scatter3d": [
           {
            "line": {
             "colorbar": {
              "outlinewidth": 0,
              "ticks": ""
             }
            },
            "marker": {
             "colorbar": {
              "outlinewidth": 0,
              "ticks": ""
             }
            },
            "type": "scatter3d"
           }
          ],
          "scattercarpet": [
           {
            "marker": {
             "colorbar": {
              "outlinewidth": 0,
              "ticks": ""
             }
            },
            "type": "scattercarpet"
           }
          ],
          "scattergeo": [
           {
            "marker": {
             "colorbar": {
              "outlinewidth": 0,
              "ticks": ""
             }
            },
            "type": "scattergeo"
           }
          ],
          "scattergl": [
           {
            "marker": {
             "colorbar": {
              "outlinewidth": 0,
              "ticks": ""
             }
            },
            "type": "scattergl"
           }
          ],
          "scattermapbox": [
           {
            "marker": {
             "colorbar": {
              "outlinewidth": 0,
              "ticks": ""
             }
            },
            "type": "scattermapbox"
           }
          ],
          "scatterpolar": [
           {
            "marker": {
             "colorbar": {
              "outlinewidth": 0,
              "ticks": ""
             }
            },
            "type": "scatterpolar"
           }
          ],
          "scatterpolargl": [
           {
            "marker": {
             "colorbar": {
              "outlinewidth": 0,
              "ticks": ""
             }
            },
            "type": "scatterpolargl"
           }
          ],
          "scatterternary": [
           {
            "marker": {
             "colorbar": {
              "outlinewidth": 0,
              "ticks": ""
             }
            },
            "type": "scatterternary"
           }
          ],
          "surface": [
           {
            "colorbar": {
             "outlinewidth": 0,
             "ticks": ""
            },
            "colorscale": [
             [
              0,
              "#0d0887"
             ],
             [
              0.1111111111111111,
              "#46039f"
             ],
             [
              0.2222222222222222,
              "#7201a8"
             ],
             [
              0.3333333333333333,
              "#9c179e"
             ],
             [
              0.4444444444444444,
              "#bd3786"
             ],
             [
              0.5555555555555556,
              "#d8576b"
             ],
             [
              0.6666666666666666,
              "#ed7953"
             ],
             [
              0.7777777777777778,
              "#fb9f3a"
             ],
             [
              0.8888888888888888,
              "#fdca26"
             ],
             [
              1,
              "#f0f921"
             ]
            ],
            "type": "surface"
           }
          ],
          "table": [
           {
            "cells": {
             "fill": {
              "color": "#EBF0F8"
             },
             "line": {
              "color": "white"
             }
            },
            "header": {
             "fill": {
              "color": "#C8D4E3"
             },
             "line": {
              "color": "white"
             }
            },
            "type": "table"
           }
          ]
         },
         "layout": {
          "annotationdefaults": {
           "arrowcolor": "#2a3f5f",
           "arrowhead": 0,
           "arrowwidth": 1
          },
          "autotypenumbers": "strict",
          "coloraxis": {
           "colorbar": {
            "outlinewidth": 0,
            "ticks": ""
           }
          },
          "colorscale": {
           "diverging": [
            [
             0,
             "#8e0152"
            ],
            [
             0.1,
             "#c51b7d"
            ],
            [
             0.2,
             "#de77ae"
            ],
            [
             0.3,
             "#f1b6da"
            ],
            [
             0.4,
             "#fde0ef"
            ],
            [
             0.5,
             "#f7f7f7"
            ],
            [
             0.6,
             "#e6f5d0"
            ],
            [
             0.7,
             "#b8e186"
            ],
            [
             0.8,
             "#7fbc41"
            ],
            [
             0.9,
             "#4d9221"
            ],
            [
             1,
             "#276419"
            ]
           ],
           "sequential": [
            [
             0,
             "#0d0887"
            ],
            [
             0.1111111111111111,
             "#46039f"
            ],
            [
             0.2222222222222222,
             "#7201a8"
            ],
            [
             0.3333333333333333,
             "#9c179e"
            ],
            [
             0.4444444444444444,
             "#bd3786"
            ],
            [
             0.5555555555555556,
             "#d8576b"
            ],
            [
             0.6666666666666666,
             "#ed7953"
            ],
            [
             0.7777777777777778,
             "#fb9f3a"
            ],
            [
             0.8888888888888888,
             "#fdca26"
            ],
            [
             1,
             "#f0f921"
            ]
           ],
           "sequentialminus": [
            [
             0,
             "#0d0887"
            ],
            [
             0.1111111111111111,
             "#46039f"
            ],
            [
             0.2222222222222222,
             "#7201a8"
            ],
            [
             0.3333333333333333,
             "#9c179e"
            ],
            [
             0.4444444444444444,
             "#bd3786"
            ],
            [
             0.5555555555555556,
             "#d8576b"
            ],
            [
             0.6666666666666666,
             "#ed7953"
            ],
            [
             0.7777777777777778,
             "#fb9f3a"
            ],
            [
             0.8888888888888888,
             "#fdca26"
            ],
            [
             1,
             "#f0f921"
            ]
           ]
          },
          "colorway": [
           "#636efa",
           "#EF553B",
           "#00cc96",
           "#ab63fa",
           "#FFA15A",
           "#19d3f3",
           "#FF6692",
           "#B6E880",
           "#FF97FF",
           "#FECB52"
          ],
          "font": {
           "color": "#2a3f5f"
          },
          "geo": {
           "bgcolor": "white",
           "lakecolor": "white",
           "landcolor": "#E5ECF6",
           "showlakes": true,
           "showland": true,
           "subunitcolor": "white"
          },
          "hoverlabel": {
           "align": "left"
          },
          "hovermode": "closest",
          "mapbox": {
           "style": "light"
          },
          "paper_bgcolor": "white",
          "plot_bgcolor": "#E5ECF6",
          "polar": {
           "angularaxis": {
            "gridcolor": "white",
            "linecolor": "white",
            "ticks": ""
           },
           "bgcolor": "#E5ECF6",
           "radialaxis": {
            "gridcolor": "white",
            "linecolor": "white",
            "ticks": ""
           }
          },
          "scene": {
           "xaxis": {
            "backgroundcolor": "#E5ECF6",
            "gridcolor": "white",
            "gridwidth": 2,
            "linecolor": "white",
            "showbackground": true,
            "ticks": "",
            "zerolinecolor": "white"
           },
           "yaxis": {
            "backgroundcolor": "#E5ECF6",
            "gridcolor": "white",
            "gridwidth": 2,
            "linecolor": "white",
            "showbackground": true,
            "ticks": "",
            "zerolinecolor": "white"
           },
           "zaxis": {
            "backgroundcolor": "#E5ECF6",
            "gridcolor": "white",
            "gridwidth": 2,
            "linecolor": "white",
            "showbackground": true,
            "ticks": "",
            "zerolinecolor": "white"
           }
          },
          "shapedefaults": {
           "line": {
            "color": "#2a3f5f"
           }
          },
          "ternary": {
           "aaxis": {
            "gridcolor": "white",
            "linecolor": "white",
            "ticks": ""
           },
           "baxis": {
            "gridcolor": "white",
            "linecolor": "white",
            "ticks": ""
           },
           "bgcolor": "#E5ECF6",
           "caxis": {
            "gridcolor": "white",
            "linecolor": "white",
            "ticks": ""
           }
          },
          "title": {
           "x": 0.05
          },
          "xaxis": {
           "automargin": true,
           "gridcolor": "white",
           "linecolor": "white",
           "ticks": "",
           "title": {
            "standoff": 15
           },
           "zerolinecolor": "white",
           "zerolinewidth": 2
          },
          "yaxis": {
           "automargin": true,
           "gridcolor": "white",
           "linecolor": "white",
           "ticks": "",
           "title": {
            "standoff": 15
           },
           "zerolinecolor": "white",
           "zerolinewidth": 2
          }
         }
        },
        "title": {
         "text": "Top 10 Companies by Final Score"
        },
        "xaxis": {
         "anchor": "y",
         "domain": [
          0,
          1
         ],
         "title": {
          "text": "Competitor"
         }
        },
        "yaxis": {
         "anchor": "x",
         "domain": [
          0,
          1
         ],
         "title": {
          "text": "Final Score"
         }
        }
       }
      }
     },
     "metadata": {},
     "output_type": "display_data"
    }
   ],
   "source": [
    "fig = px.bar(\n",
    "    data.nlargest(10, 'Final Score'),\n",
    "    x='Competition Name',\n",
    "    y='Final Score',\n",
    "    color='Final Score',\n",
    "    title='Top 10 Companies by Final Score',\n",
    "    labels={\"Competition Name\": \"Competitor\"}\n",
    ")\n",
    "fig.show()"
   ]
  },
  {
   "cell_type": "code",
   "execution_count": 18,
   "metadata": {},
   "outputs": [
    {
     "data": {
      "application/vnd.plotly.v1+json": {
       "config": {
        "plotlyServerURL": "https://plot.ly"
       },
       "data": [
        {
         "alignmentgroup": "True",
         "hovertemplate": "Competitor=%{x}<br>Total Engagement Score=%{marker.color}<extra></extra>",
         "legendgroup": "",
         "marker": {
          "color": [
           1.0000000000000002,
           0.7138456872974908,
           0.24613867588827396,
           0.201516815373761,
           0.1928013358095915,
           0.06685642525736357,
           0.06326286073028674,
           0.04703354706270134,
           0.03980203455138073,
           0.03615974802630539
          ],
          "coloraxis": "coloraxis",
          "pattern": {
           "shape": ""
          }
         },
         "name": "",
         "offsetgroup": "",
         "orientation": "v",
         "showlegend": false,
         "textposition": "auto",
         "type": "bar",
         "x": [
          "Mobirevo",
          "CareerEx",
          "Drivecrowd",
          "Clarylife Global",
          "Pivva Technologies",
          "BRISKITA",
          "KISContent Digital Agency",
          "DDBA",
          "Fortran House",
          "Ani David"
         ],
         "xaxis": "x",
         "y": [
          1.0000000000000002,
          0.7138456872974908,
          0.24613867588827396,
          0.201516815373761,
          0.1928013358095915,
          0.06685642525736357,
          0.06326286073028674,
          0.04703354706270134,
          0.03980203455138073,
          0.03615974802630539
         ],
         "yaxis": "y"
        }
       ],
       "layout": {
        "barmode": "relative",
        "coloraxis": {
         "colorbar": {
          "title": {
           "text": "Total Engagement Score"
          }
         },
         "colorscale": [
          [
           0,
           "#0d0887"
          ],
          [
           0.1111111111111111,
           "#46039f"
          ],
          [
           0.2222222222222222,
           "#7201a8"
          ],
          [
           0.3333333333333333,
           "#9c179e"
          ],
          [
           0.4444444444444444,
           "#bd3786"
          ],
          [
           0.5555555555555556,
           "#d8576b"
          ],
          [
           0.6666666666666666,
           "#ed7953"
          ],
          [
           0.7777777777777778,
           "#fb9f3a"
          ],
          [
           0.8888888888888888,
           "#fdca26"
          ],
          [
           1,
           "#f0f921"
          ]
         ]
        },
        "legend": {
         "tracegroupgap": 0
        },
        "template": {
         "data": {
          "bar": [
           {
            "error_x": {
             "color": "#2a3f5f"
            },
            "error_y": {
             "color": "#2a3f5f"
            },
            "marker": {
             "line": {
              "color": "#E5ECF6",
              "width": 0.5
             },
             "pattern": {
              "fillmode": "overlay",
              "size": 10,
              "solidity": 0.2
             }
            },
            "type": "bar"
           }
          ],
          "barpolar": [
           {
            "marker": {
             "line": {
              "color": "#E5ECF6",
              "width": 0.5
             },
             "pattern": {
              "fillmode": "overlay",
              "size": 10,
              "solidity": 0.2
             }
            },
            "type": "barpolar"
           }
          ],
          "carpet": [
           {
            "aaxis": {
             "endlinecolor": "#2a3f5f",
             "gridcolor": "white",
             "linecolor": "white",
             "minorgridcolor": "white",
             "startlinecolor": "#2a3f5f"
            },
            "baxis": {
             "endlinecolor": "#2a3f5f",
             "gridcolor": "white",
             "linecolor": "white",
             "minorgridcolor": "white",
             "startlinecolor": "#2a3f5f"
            },
            "type": "carpet"
           }
          ],
          "choropleth": [
           {
            "colorbar": {
             "outlinewidth": 0,
             "ticks": ""
            },
            "type": "choropleth"
           }
          ],
          "contour": [
           {
            "colorbar": {
             "outlinewidth": 0,
             "ticks": ""
            },
            "colorscale": [
             [
              0,
              "#0d0887"
             ],
             [
              0.1111111111111111,
              "#46039f"
             ],
             [
              0.2222222222222222,
              "#7201a8"
             ],
             [
              0.3333333333333333,
              "#9c179e"
             ],
             [
              0.4444444444444444,
              "#bd3786"
             ],
             [
              0.5555555555555556,
              "#d8576b"
             ],
             [
              0.6666666666666666,
              "#ed7953"
             ],
             [
              0.7777777777777778,
              "#fb9f3a"
             ],
             [
              0.8888888888888888,
              "#fdca26"
             ],
             [
              1,
              "#f0f921"
             ]
            ],
            "type": "contour"
           }
          ],
          "contourcarpet": [
           {
            "colorbar": {
             "outlinewidth": 0,
             "ticks": ""
            },
            "type": "contourcarpet"
           }
          ],
          "heatmap": [
           {
            "colorbar": {
             "outlinewidth": 0,
             "ticks": ""
            },
            "colorscale": [
             [
              0,
              "#0d0887"
             ],
             [
              0.1111111111111111,
              "#46039f"
             ],
             [
              0.2222222222222222,
              "#7201a8"
             ],
             [
              0.3333333333333333,
              "#9c179e"
             ],
             [
              0.4444444444444444,
              "#bd3786"
             ],
             [
              0.5555555555555556,
              "#d8576b"
             ],
             [
              0.6666666666666666,
              "#ed7953"
             ],
             [
              0.7777777777777778,
              "#fb9f3a"
             ],
             [
              0.8888888888888888,
              "#fdca26"
             ],
             [
              1,
              "#f0f921"
             ]
            ],
            "type": "heatmap"
           }
          ],
          "heatmapgl": [
           {
            "colorbar": {
             "outlinewidth": 0,
             "ticks": ""
            },
            "colorscale": [
             [
              0,
              "#0d0887"
             ],
             [
              0.1111111111111111,
              "#46039f"
             ],
             [
              0.2222222222222222,
              "#7201a8"
             ],
             [
              0.3333333333333333,
              "#9c179e"
             ],
             [
              0.4444444444444444,
              "#bd3786"
             ],
             [
              0.5555555555555556,
              "#d8576b"
             ],
             [
              0.6666666666666666,
              "#ed7953"
             ],
             [
              0.7777777777777778,
              "#fb9f3a"
             ],
             [
              0.8888888888888888,
              "#fdca26"
             ],
             [
              1,
              "#f0f921"
             ]
            ],
            "type": "heatmapgl"
           }
          ],
          "histogram": [
           {
            "marker": {
             "pattern": {
              "fillmode": "overlay",
              "size": 10,
              "solidity": 0.2
             }
            },
            "type": "histogram"
           }
          ],
          "histogram2d": [
           {
            "colorbar": {
             "outlinewidth": 0,
             "ticks": ""
            },
            "colorscale": [
             [
              0,
              "#0d0887"
             ],
             [
              0.1111111111111111,
              "#46039f"
             ],
             [
              0.2222222222222222,
              "#7201a8"
             ],
             [
              0.3333333333333333,
              "#9c179e"
             ],
             [
              0.4444444444444444,
              "#bd3786"
             ],
             [
              0.5555555555555556,
              "#d8576b"
             ],
             [
              0.6666666666666666,
              "#ed7953"
             ],
             [
              0.7777777777777778,
              "#fb9f3a"
             ],
             [
              0.8888888888888888,
              "#fdca26"
             ],
             [
              1,
              "#f0f921"
             ]
            ],
            "type": "histogram2d"
           }
          ],
          "histogram2dcontour": [
           {
            "colorbar": {
             "outlinewidth": 0,
             "ticks": ""
            },
            "colorscale": [
             [
              0,
              "#0d0887"
             ],
             [
              0.1111111111111111,
              "#46039f"
             ],
             [
              0.2222222222222222,
              "#7201a8"
             ],
             [
              0.3333333333333333,
              "#9c179e"
             ],
             [
              0.4444444444444444,
              "#bd3786"
             ],
             [
              0.5555555555555556,
              "#d8576b"
             ],
             [
              0.6666666666666666,
              "#ed7953"
             ],
             [
              0.7777777777777778,
              "#fb9f3a"
             ],
             [
              0.8888888888888888,
              "#fdca26"
             ],
             [
              1,
              "#f0f921"
             ]
            ],
            "type": "histogram2dcontour"
           }
          ],
          "mesh3d": [
           {
            "colorbar": {
             "outlinewidth": 0,
             "ticks": ""
            },
            "type": "mesh3d"
           }
          ],
          "parcoords": [
           {
            "line": {
             "colorbar": {
              "outlinewidth": 0,
              "ticks": ""
             }
            },
            "type": "parcoords"
           }
          ],
          "pie": [
           {
            "automargin": true,
            "type": "pie"
           }
          ],
          "scatter": [
           {
            "fillpattern": {
             "fillmode": "overlay",
             "size": 10,
             "solidity": 0.2
            },
            "type": "scatter"
           }
          ],
          "scatter3d": [
           {
            "line": {
             "colorbar": {
              "outlinewidth": 0,
              "ticks": ""
             }
            },
            "marker": {
             "colorbar": {
              "outlinewidth": 0,
              "ticks": ""
             }
            },
            "type": "scatter3d"
           }
          ],
          "scattercarpet": [
           {
            "marker": {
             "colorbar": {
              "outlinewidth": 0,
              "ticks": ""
             }
            },
            "type": "scattercarpet"
           }
          ],
          "scattergeo": [
           {
            "marker": {
             "colorbar": {
              "outlinewidth": 0,
              "ticks": ""
             }
            },
            "type": "scattergeo"
           }
          ],
          "scattergl": [
           {
            "marker": {
             "colorbar": {
              "outlinewidth": 0,
              "ticks": ""
             }
            },
            "type": "scattergl"
           }
          ],
          "scattermapbox": [
           {
            "marker": {
             "colorbar": {
              "outlinewidth": 0,
              "ticks": ""
             }
            },
            "type": "scattermapbox"
           }
          ],
          "scatterpolar": [
           {
            "marker": {
             "colorbar": {
              "outlinewidth": 0,
              "ticks": ""
             }
            },
            "type": "scatterpolar"
           }
          ],
          "scatterpolargl": [
           {
            "marker": {
             "colorbar": {
              "outlinewidth": 0,
              "ticks": ""
             }
            },
            "type": "scatterpolargl"
           }
          ],
          "scatterternary": [
           {
            "marker": {
             "colorbar": {
              "outlinewidth": 0,
              "ticks": ""
             }
            },
            "type": "scatterternary"
           }
          ],
          "surface": [
           {
            "colorbar": {
             "outlinewidth": 0,
             "ticks": ""
            },
            "colorscale": [
             [
              0,
              "#0d0887"
             ],
             [
              0.1111111111111111,
              "#46039f"
             ],
             [
              0.2222222222222222,
              "#7201a8"
             ],
             [
              0.3333333333333333,
              "#9c179e"
             ],
             [
              0.4444444444444444,
              "#bd3786"
             ],
             [
              0.5555555555555556,
              "#d8576b"
             ],
             [
              0.6666666666666666,
              "#ed7953"
             ],
             [
              0.7777777777777778,
              "#fb9f3a"
             ],
             [
              0.8888888888888888,
              "#fdca26"
             ],
             [
              1,
              "#f0f921"
             ]
            ],
            "type": "surface"
           }
          ],
          "table": [
           {
            "cells": {
             "fill": {
              "color": "#EBF0F8"
             },
             "line": {
              "color": "white"
             }
            },
            "header": {
             "fill": {
              "color": "#C8D4E3"
             },
             "line": {
              "color": "white"
             }
            },
            "type": "table"
           }
          ]
         },
         "layout": {
          "annotationdefaults": {
           "arrowcolor": "#2a3f5f",
           "arrowhead": 0,
           "arrowwidth": 1
          },
          "autotypenumbers": "strict",
          "coloraxis": {
           "colorbar": {
            "outlinewidth": 0,
            "ticks": ""
           }
          },
          "colorscale": {
           "diverging": [
            [
             0,
             "#8e0152"
            ],
            [
             0.1,
             "#c51b7d"
            ],
            [
             0.2,
             "#de77ae"
            ],
            [
             0.3,
             "#f1b6da"
            ],
            [
             0.4,
             "#fde0ef"
            ],
            [
             0.5,
             "#f7f7f7"
            ],
            [
             0.6,
             "#e6f5d0"
            ],
            [
             0.7,
             "#b8e186"
            ],
            [
             0.8,
             "#7fbc41"
            ],
            [
             0.9,
             "#4d9221"
            ],
            [
             1,
             "#276419"
            ]
           ],
           "sequential": [
            [
             0,
             "#0d0887"
            ],
            [
             0.1111111111111111,
             "#46039f"
            ],
            [
             0.2222222222222222,
             "#7201a8"
            ],
            [
             0.3333333333333333,
             "#9c179e"
            ],
            [
             0.4444444444444444,
             "#bd3786"
            ],
            [
             0.5555555555555556,
             "#d8576b"
            ],
            [
             0.6666666666666666,
             "#ed7953"
            ],
            [
             0.7777777777777778,
             "#fb9f3a"
            ],
            [
             0.8888888888888888,
             "#fdca26"
            ],
            [
             1,
             "#f0f921"
            ]
           ],
           "sequentialminus": [
            [
             0,
             "#0d0887"
            ],
            [
             0.1111111111111111,
             "#46039f"
            ],
            [
             0.2222222222222222,
             "#7201a8"
            ],
            [
             0.3333333333333333,
             "#9c179e"
            ],
            [
             0.4444444444444444,
             "#bd3786"
            ],
            [
             0.5555555555555556,
             "#d8576b"
            ],
            [
             0.6666666666666666,
             "#ed7953"
            ],
            [
             0.7777777777777778,
             "#fb9f3a"
            ],
            [
             0.8888888888888888,
             "#fdca26"
            ],
            [
             1,
             "#f0f921"
            ]
           ]
          },
          "colorway": [
           "#636efa",
           "#EF553B",
           "#00cc96",
           "#ab63fa",
           "#FFA15A",
           "#19d3f3",
           "#FF6692",
           "#B6E880",
           "#FF97FF",
           "#FECB52"
          ],
          "font": {
           "color": "#2a3f5f"
          },
          "geo": {
           "bgcolor": "white",
           "lakecolor": "white",
           "landcolor": "#E5ECF6",
           "showlakes": true,
           "showland": true,
           "subunitcolor": "white"
          },
          "hoverlabel": {
           "align": "left"
          },
          "hovermode": "closest",
          "mapbox": {
           "style": "light"
          },
          "paper_bgcolor": "white",
          "plot_bgcolor": "#E5ECF6",
          "polar": {
           "angularaxis": {
            "gridcolor": "white",
            "linecolor": "white",
            "ticks": ""
           },
           "bgcolor": "#E5ECF6",
           "radialaxis": {
            "gridcolor": "white",
            "linecolor": "white",
            "ticks": ""
           }
          },
          "scene": {
           "xaxis": {
            "backgroundcolor": "#E5ECF6",
            "gridcolor": "white",
            "gridwidth": 2,
            "linecolor": "white",
            "showbackground": true,
            "ticks": "",
            "zerolinecolor": "white"
           },
           "yaxis": {
            "backgroundcolor": "#E5ECF6",
            "gridcolor": "white",
            "gridwidth": 2,
            "linecolor": "white",
            "showbackground": true,
            "ticks": "",
            "zerolinecolor": "white"
           },
           "zaxis": {
            "backgroundcolor": "#E5ECF6",
            "gridcolor": "white",
            "gridwidth": 2,
            "linecolor": "white",
            "showbackground": true,
            "ticks": "",
            "zerolinecolor": "white"
           }
          },
          "shapedefaults": {
           "line": {
            "color": "#2a3f5f"
           }
          },
          "ternary": {
           "aaxis": {
            "gridcolor": "white",
            "linecolor": "white",
            "ticks": ""
           },
           "baxis": {
            "gridcolor": "white",
            "linecolor": "white",
            "ticks": ""
           },
           "bgcolor": "#E5ECF6",
           "caxis": {
            "gridcolor": "white",
            "linecolor": "white",
            "ticks": ""
           }
          },
          "title": {
           "x": 0.05
          },
          "xaxis": {
           "automargin": true,
           "gridcolor": "white",
           "linecolor": "white",
           "ticks": "",
           "title": {
            "standoff": 15
           },
           "zerolinecolor": "white",
           "zerolinewidth": 2
          },
          "yaxis": {
           "automargin": true,
           "gridcolor": "white",
           "linecolor": "white",
           "ticks": "",
           "title": {
            "standoff": 15
           },
           "zerolinecolor": "white",
           "zerolinewidth": 2
          }
         }
        },
        "title": {
         "text": "Top 10 Companies by Engagement Score"
        },
        "xaxis": {
         "anchor": "y",
         "domain": [
          0,
          1
         ],
         "title": {
          "text": "Competitor"
         }
        },
        "yaxis": {
         "anchor": "x",
         "domain": [
          0,
          1
         ],
         "title": {
          "text": "Total Engagement Score"
         }
        }
       }
      }
     },
     "metadata": {},
     "output_type": "display_data"
    }
   ],
   "source": [
    "fig = px.bar(\n",
    "    data.nlargest(10, 'Total Engagement Score'),\n",
    "    x='Competition Name',\n",
    "    y='Total Engagement Score',\n",
    "    color='Total Engagement Score',\n",
    "    title='Top 10 Companies by Engagement Score',\n",
    "    labels={\"Competition Name\": \"Competitor\"}\n",
    ")\n",
    "fig.show()"
   ]
  },
  {
   "cell_type": "code",
   "execution_count": 19,
   "metadata": {},
   "outputs": [
    {
     "data": {
      "application/vnd.plotly.v1+json": {
       "config": {
        "plotlyServerURL": "https://plot.ly"
       },
       "data": [
        {
         "alignmentgroup": "True",
         "hovertemplate": "Competitor=%{x}<br>Domain_Strength_10=%{marker.color}<extra></extra>",
         "legendgroup": "",
         "marker": {
          "color": [
           0.9999999999999999,
           0.8060453400503779,
           0.7858942065491185,
           0.7279596977329975,
           0.6801007556675064,
           0.6473551637279596,
           0.5869017632241814,
           0.47103274559193953,
           0.44005037783375317,
           0.36523929471032746
          ],
          "coloraxis": "coloraxis",
          "pattern": {
           "shape": ""
          }
         },
         "name": "",
         "offsetgroup": "",
         "orientation": "v",
         "showlegend": false,
         "textposition": "auto",
         "type": "bar",
         "x": [
          "Lentarex Ltd - Port Harcourt",
          "Fortran House",
          "Eloti Designs",
          "MEL-Technologies",
          "SilvaCreate",
          "Clarylife Global",
          "Mobirevo",
          "Digweb Experts",
          "Rewod Technologies",
          "Pivva Technologies"
         ],
         "xaxis": "x",
         "y": [
          0.9999999999999999,
          0.8060453400503779,
          0.7858942065491185,
          0.7279596977329975,
          0.6801007556675064,
          0.6473551637279596,
          0.5869017632241814,
          0.47103274559193953,
          0.44005037783375317,
          0.36523929471032746
         ],
         "yaxis": "y"
        }
       ],
       "layout": {
        "barmode": "relative",
        "coloraxis": {
         "colorbar": {
          "title": {
           "text": "Domain_Strength_10"
          }
         },
         "colorscale": [
          [
           0,
           "#0d0887"
          ],
          [
           0.1111111111111111,
           "#46039f"
          ],
          [
           0.2222222222222222,
           "#7201a8"
          ],
          [
           0.3333333333333333,
           "#9c179e"
          ],
          [
           0.4444444444444444,
           "#bd3786"
          ],
          [
           0.5555555555555556,
           "#d8576b"
          ],
          [
           0.6666666666666666,
           "#ed7953"
          ],
          [
           0.7777777777777778,
           "#fb9f3a"
          ],
          [
           0.8888888888888888,
           "#fdca26"
          ],
          [
           1,
           "#f0f921"
          ]
         ]
        },
        "legend": {
         "tracegroupgap": 0
        },
        "template": {
         "data": {
          "bar": [
           {
            "error_x": {
             "color": "#2a3f5f"
            },
            "error_y": {
             "color": "#2a3f5f"
            },
            "marker": {
             "line": {
              "color": "#E5ECF6",
              "width": 0.5
             },
             "pattern": {
              "fillmode": "overlay",
              "size": 10,
              "solidity": 0.2
             }
            },
            "type": "bar"
           }
          ],
          "barpolar": [
           {
            "marker": {
             "line": {
              "color": "#E5ECF6",
              "width": 0.5
             },
             "pattern": {
              "fillmode": "overlay",
              "size": 10,
              "solidity": 0.2
             }
            },
            "type": "barpolar"
           }
          ],
          "carpet": [
           {
            "aaxis": {
             "endlinecolor": "#2a3f5f",
             "gridcolor": "white",
             "linecolor": "white",
             "minorgridcolor": "white",
             "startlinecolor": "#2a3f5f"
            },
            "baxis": {
             "endlinecolor": "#2a3f5f",
             "gridcolor": "white",
             "linecolor": "white",
             "minorgridcolor": "white",
             "startlinecolor": "#2a3f5f"
            },
            "type": "carpet"
           }
          ],
          "choropleth": [
           {
            "colorbar": {
             "outlinewidth": 0,
             "ticks": ""
            },
            "type": "choropleth"
           }
          ],
          "contour": [
           {
            "colorbar": {
             "outlinewidth": 0,
             "ticks": ""
            },
            "colorscale": [
             [
              0,
              "#0d0887"
             ],
             [
              0.1111111111111111,
              "#46039f"
             ],
             [
              0.2222222222222222,
              "#7201a8"
             ],
             [
              0.3333333333333333,
              "#9c179e"
             ],
             [
              0.4444444444444444,
              "#bd3786"
             ],
             [
              0.5555555555555556,
              "#d8576b"
             ],
             [
              0.6666666666666666,
              "#ed7953"
             ],
             [
              0.7777777777777778,
              "#fb9f3a"
             ],
             [
              0.8888888888888888,
              "#fdca26"
             ],
             [
              1,
              "#f0f921"
             ]
            ],
            "type": "contour"
           }
          ],
          "contourcarpet": [
           {
            "colorbar": {
             "outlinewidth": 0,
             "ticks": ""
            },
            "type": "contourcarpet"
           }
          ],
          "heatmap": [
           {
            "colorbar": {
             "outlinewidth": 0,
             "ticks": ""
            },
            "colorscale": [
             [
              0,
              "#0d0887"
             ],
             [
              0.1111111111111111,
              "#46039f"
             ],
             [
              0.2222222222222222,
              "#7201a8"
             ],
             [
              0.3333333333333333,
              "#9c179e"
             ],
             [
              0.4444444444444444,
              "#bd3786"
             ],
             [
              0.5555555555555556,
              "#d8576b"
             ],
             [
              0.6666666666666666,
              "#ed7953"
             ],
             [
              0.7777777777777778,
              "#fb9f3a"
             ],
             [
              0.8888888888888888,
              "#fdca26"
             ],
             [
              1,
              "#f0f921"
             ]
            ],
            "type": "heatmap"
           }
          ],
          "heatmapgl": [
           {
            "colorbar": {
             "outlinewidth": 0,
             "ticks": ""
            },
            "colorscale": [
             [
              0,
              "#0d0887"
             ],
             [
              0.1111111111111111,
              "#46039f"
             ],
             [
              0.2222222222222222,
              "#7201a8"
             ],
             [
              0.3333333333333333,
              "#9c179e"
             ],
             [
              0.4444444444444444,
              "#bd3786"
             ],
             [
              0.5555555555555556,
              "#d8576b"
             ],
             [
              0.6666666666666666,
              "#ed7953"
             ],
             [
              0.7777777777777778,
              "#fb9f3a"
             ],
             [
              0.8888888888888888,
              "#fdca26"
             ],
             [
              1,
              "#f0f921"
             ]
            ],
            "type": "heatmapgl"
           }
          ],
          "histogram": [
           {
            "marker": {
             "pattern": {
              "fillmode": "overlay",
              "size": 10,
              "solidity": 0.2
             }
            },
            "type": "histogram"
           }
          ],
          "histogram2d": [
           {
            "colorbar": {
             "outlinewidth": 0,
             "ticks": ""
            },
            "colorscale": [
             [
              0,
              "#0d0887"
             ],
             [
              0.1111111111111111,
              "#46039f"
             ],
             [
              0.2222222222222222,
              "#7201a8"
             ],
             [
              0.3333333333333333,
              "#9c179e"
             ],
             [
              0.4444444444444444,
              "#bd3786"
             ],
             [
              0.5555555555555556,
              "#d8576b"
             ],
             [
              0.6666666666666666,
              "#ed7953"
             ],
             [
              0.7777777777777778,
              "#fb9f3a"
             ],
             [
              0.8888888888888888,
              "#fdca26"
             ],
             [
              1,
              "#f0f921"
             ]
            ],
            "type": "histogram2d"
           }
          ],
          "histogram2dcontour": [
           {
            "colorbar": {
             "outlinewidth": 0,
             "ticks": ""
            },
            "colorscale": [
             [
              0,
              "#0d0887"
             ],
             [
              0.1111111111111111,
              "#46039f"
             ],
             [
              0.2222222222222222,
              "#7201a8"
             ],
             [
              0.3333333333333333,
              "#9c179e"
             ],
             [
              0.4444444444444444,
              "#bd3786"
             ],
             [
              0.5555555555555556,
              "#d8576b"
             ],
             [
              0.6666666666666666,
              "#ed7953"
             ],
             [
              0.7777777777777778,
              "#fb9f3a"
             ],
             [
              0.8888888888888888,
              "#fdca26"
             ],
             [
              1,
              "#f0f921"
             ]
            ],
            "type": "histogram2dcontour"
           }
          ],
          "mesh3d": [
           {
            "colorbar": {
             "outlinewidth": 0,
             "ticks": ""
            },
            "type": "mesh3d"
           }
          ],
          "parcoords": [
           {
            "line": {
             "colorbar": {
              "outlinewidth": 0,
              "ticks": ""
             }
            },
            "type": "parcoords"
           }
          ],
          "pie": [
           {
            "automargin": true,
            "type": "pie"
           }
          ],
          "scatter": [
           {
            "fillpattern": {
             "fillmode": "overlay",
             "size": 10,
             "solidity": 0.2
            },
            "type": "scatter"
           }
          ],
          "scatter3d": [
           {
            "line": {
             "colorbar": {
              "outlinewidth": 0,
              "ticks": ""
             }
            },
            "marker": {
             "colorbar": {
              "outlinewidth": 0,
              "ticks": ""
             }
            },
            "type": "scatter3d"
           }
          ],
          "scattercarpet": [
           {
            "marker": {
             "colorbar": {
              "outlinewidth": 0,
              "ticks": ""
             }
            },
            "type": "scattercarpet"
           }
          ],
          "scattergeo": [
           {
            "marker": {
             "colorbar": {
              "outlinewidth": 0,
              "ticks": ""
             }
            },
            "type": "scattergeo"
           }
          ],
          "scattergl": [
           {
            "marker": {
             "colorbar": {
              "outlinewidth": 0,
              "ticks": ""
             }
            },
            "type": "scattergl"
           }
          ],
          "scattermapbox": [
           {
            "marker": {
             "colorbar": {
              "outlinewidth": 0,
              "ticks": ""
             }
            },
            "type": "scattermapbox"
           }
          ],
          "scatterpolar": [
           {
            "marker": {
             "colorbar": {
              "outlinewidth": 0,
              "ticks": ""
             }
            },
            "type": "scatterpolar"
           }
          ],
          "scatterpolargl": [
           {
            "marker": {
             "colorbar": {
              "outlinewidth": 0,
              "ticks": ""
             }
            },
            "type": "scatterpolargl"
           }
          ],
          "scatterternary": [
           {
            "marker": {
             "colorbar": {
              "outlinewidth": 0,
              "ticks": ""
             }
            },
            "type": "scatterternary"
           }
          ],
          "surface": [
           {
            "colorbar": {
             "outlinewidth": 0,
             "ticks": ""
            },
            "colorscale": [
             [
              0,
              "#0d0887"
             ],
             [
              0.1111111111111111,
              "#46039f"
             ],
             [
              0.2222222222222222,
              "#7201a8"
             ],
             [
              0.3333333333333333,
              "#9c179e"
             ],
             [
              0.4444444444444444,
              "#bd3786"
             ],
             [
              0.5555555555555556,
              "#d8576b"
             ],
             [
              0.6666666666666666,
              "#ed7953"
             ],
             [
              0.7777777777777778,
              "#fb9f3a"
             ],
             [
              0.8888888888888888,
              "#fdca26"
             ],
             [
              1,
              "#f0f921"
             ]
            ],
            "type": "surface"
           }
          ],
          "table": [
           {
            "cells": {
             "fill": {
              "color": "#EBF0F8"
             },
             "line": {
              "color": "white"
             }
            },
            "header": {
             "fill": {
              "color": "#C8D4E3"
             },
             "line": {
              "color": "white"
             }
            },
            "type": "table"
           }
          ]
         },
         "layout": {
          "annotationdefaults": {
           "arrowcolor": "#2a3f5f",
           "arrowhead": 0,
           "arrowwidth": 1
          },
          "autotypenumbers": "strict",
          "coloraxis": {
           "colorbar": {
            "outlinewidth": 0,
            "ticks": ""
           }
          },
          "colorscale": {
           "diverging": [
            [
             0,
             "#8e0152"
            ],
            [
             0.1,
             "#c51b7d"
            ],
            [
             0.2,
             "#de77ae"
            ],
            [
             0.3,
             "#f1b6da"
            ],
            [
             0.4,
             "#fde0ef"
            ],
            [
             0.5,
             "#f7f7f7"
            ],
            [
             0.6,
             "#e6f5d0"
            ],
            [
             0.7,
             "#b8e186"
            ],
            [
             0.8,
             "#7fbc41"
            ],
            [
             0.9,
             "#4d9221"
            ],
            [
             1,
             "#276419"
            ]
           ],
           "sequential": [
            [
             0,
             "#0d0887"
            ],
            [
             0.1111111111111111,
             "#46039f"
            ],
            [
             0.2222222222222222,
             "#7201a8"
            ],
            [
             0.3333333333333333,
             "#9c179e"
            ],
            [
             0.4444444444444444,
             "#bd3786"
            ],
            [
             0.5555555555555556,
             "#d8576b"
            ],
            [
             0.6666666666666666,
             "#ed7953"
            ],
            [
             0.7777777777777778,
             "#fb9f3a"
            ],
            [
             0.8888888888888888,
             "#fdca26"
            ],
            [
             1,
             "#f0f921"
            ]
           ],
           "sequentialminus": [
            [
             0,
             "#0d0887"
            ],
            [
             0.1111111111111111,
             "#46039f"
            ],
            [
             0.2222222222222222,
             "#7201a8"
            ],
            [
             0.3333333333333333,
             "#9c179e"
            ],
            [
             0.4444444444444444,
             "#bd3786"
            ],
            [
             0.5555555555555556,
             "#d8576b"
            ],
            [
             0.6666666666666666,
             "#ed7953"
            ],
            [
             0.7777777777777778,
             "#fb9f3a"
            ],
            [
             0.8888888888888888,
             "#fdca26"
            ],
            [
             1,
             "#f0f921"
            ]
           ]
          },
          "colorway": [
           "#636efa",
           "#EF553B",
           "#00cc96",
           "#ab63fa",
           "#FFA15A",
           "#19d3f3",
           "#FF6692",
           "#B6E880",
           "#FF97FF",
           "#FECB52"
          ],
          "font": {
           "color": "#2a3f5f"
          },
          "geo": {
           "bgcolor": "white",
           "lakecolor": "white",
           "landcolor": "#E5ECF6",
           "showlakes": true,
           "showland": true,
           "subunitcolor": "white"
          },
          "hoverlabel": {
           "align": "left"
          },
          "hovermode": "closest",
          "mapbox": {
           "style": "light"
          },
          "paper_bgcolor": "white",
          "plot_bgcolor": "#E5ECF6",
          "polar": {
           "angularaxis": {
            "gridcolor": "white",
            "linecolor": "white",
            "ticks": ""
           },
           "bgcolor": "#E5ECF6",
           "radialaxis": {
            "gridcolor": "white",
            "linecolor": "white",
            "ticks": ""
           }
          },
          "scene": {
           "xaxis": {
            "backgroundcolor": "#E5ECF6",
            "gridcolor": "white",
            "gridwidth": 2,
            "linecolor": "white",
            "showbackground": true,
            "ticks": "",
            "zerolinecolor": "white"
           },
           "yaxis": {
            "backgroundcolor": "#E5ECF6",
            "gridcolor": "white",
            "gridwidth": 2,
            "linecolor": "white",
            "showbackground": true,
            "ticks": "",
            "zerolinecolor": "white"
           },
           "zaxis": {
            "backgroundcolor": "#E5ECF6",
            "gridcolor": "white",
            "gridwidth": 2,
            "linecolor": "white",
            "showbackground": true,
            "ticks": "",
            "zerolinecolor": "white"
           }
          },
          "shapedefaults": {
           "line": {
            "color": "#2a3f5f"
           }
          },
          "ternary": {
           "aaxis": {
            "gridcolor": "white",
            "linecolor": "white",
            "ticks": ""
           },
           "baxis": {
            "gridcolor": "white",
            "linecolor": "white",
            "ticks": ""
           },
           "bgcolor": "#E5ECF6",
           "caxis": {
            "gridcolor": "white",
            "linecolor": "white",
            "ticks": ""
           }
          },
          "title": {
           "x": 0.05
          },
          "xaxis": {
           "automargin": true,
           "gridcolor": "white",
           "linecolor": "white",
           "ticks": "",
           "title": {
            "standoff": 15
           },
           "zerolinecolor": "white",
           "zerolinewidth": 2
          },
          "yaxis": {
           "automargin": true,
           "gridcolor": "white",
           "linecolor": "white",
           "ticks": "",
           "title": {
            "standoff": 15
           },
           "zerolinecolor": "white",
           "zerolinewidth": 2
          }
         }
        },
        "title": {
         "text": "Top 10 Companies by Domain Authority"
        },
        "xaxis": {
         "anchor": "y",
         "domain": [
          0,
          1
         ],
         "title": {
          "text": "Competitor"
         }
        },
        "yaxis": {
         "anchor": "x",
         "domain": [
          0,
          1
         ],
         "title": {
          "text": "Domain_Strength_10"
         }
        }
       }
      }
     },
     "metadata": {},
     "output_type": "display_data"
    }
   ],
   "source": [
    "fig = px.bar(\n",
    "    data.nlargest(10, 'Domain_Strength_10'),\n",
    "    x='Competition Name',\n",
    "    y='Domain_Strength_10',\n",
    "    color='Domain_Strength_10',\n",
    "    title='Top 10 Companies by Domain Authority',\n",
    "    labels={\"Competition Name\": \"Competitor\"}\n",
    ")\n",
    "fig.show()"
   ]
  },
  {
   "cell_type": "code",
   "execution_count": 20,
   "metadata": {},
   "outputs": [
    {
     "data": {
      "application/vnd.plotly.v1+json": {
       "config": {
        "plotlyServerURL": "https://plot.ly"
       },
       "data": [
        {
         "alignmentgroup": "True",
         "hovertemplate": "Competitor=%{x}<br>Domain_Strength_10=%{marker.color}<extra></extra>",
         "legendgroup": "",
         "marker": {
          "color": [
           0.9999999999999999,
           0.8060453400503779,
           0.7858942065491185,
           0.7279596977329975,
           0.6801007556675064,
           0.6473551637279596,
           0.5869017632241814,
           0.47103274559193953,
           0.44005037783375317,
           0.36523929471032746
          ],
          "coloraxis": "coloraxis",
          "pattern": {
           "shape": ""
          }
         },
         "name": "",
         "offsetgroup": "",
         "orientation": "v",
         "showlegend": false,
         "textposition": "auto",
         "type": "bar",
         "x": [
          "Lentarex Ltd - Port Harcourt",
          "Fortran House",
          "Eloti Designs",
          "MEL-Technologies",
          "SilvaCreate",
          "Clarylife Global",
          "Mobirevo",
          "Digweb Experts",
          "Rewod Technologies",
          "Pivva Technologies"
         ],
         "xaxis": "x",
         "y": [
          0.9999999999999999,
          0.8060453400503779,
          0.7858942065491185,
          0.7279596977329975,
          0.6801007556675064,
          0.6473551637279596,
          0.5869017632241814,
          0.47103274559193953,
          0.44005037783375317,
          0.36523929471032746
         ],
         "yaxis": "y"
        }
       ],
       "layout": {
        "barmode": "relative",
        "coloraxis": {
         "colorbar": {
          "title": {
           "text": "Domain_Strength_10"
          }
         },
         "colorscale": [
          [
           0,
           "#0d0887"
          ],
          [
           0.1111111111111111,
           "#46039f"
          ],
          [
           0.2222222222222222,
           "#7201a8"
          ],
          [
           0.3333333333333333,
           "#9c179e"
          ],
          [
           0.4444444444444444,
           "#bd3786"
          ],
          [
           0.5555555555555556,
           "#d8576b"
          ],
          [
           0.6666666666666666,
           "#ed7953"
          ],
          [
           0.7777777777777778,
           "#fb9f3a"
          ],
          [
           0.8888888888888888,
           "#fdca26"
          ],
          [
           1,
           "#f0f921"
          ]
         ]
        },
        "legend": {
         "tracegroupgap": 0
        },
        "template": {
         "data": {
          "bar": [
           {
            "error_x": {
             "color": "#2a3f5f"
            },
            "error_y": {
             "color": "#2a3f5f"
            },
            "marker": {
             "line": {
              "color": "#E5ECF6",
              "width": 0.5
             },
             "pattern": {
              "fillmode": "overlay",
              "size": 10,
              "solidity": 0.2
             }
            },
            "type": "bar"
           }
          ],
          "barpolar": [
           {
            "marker": {
             "line": {
              "color": "#E5ECF6",
              "width": 0.5
             },
             "pattern": {
              "fillmode": "overlay",
              "size": 10,
              "solidity": 0.2
             }
            },
            "type": "barpolar"
           }
          ],
          "carpet": [
           {
            "aaxis": {
             "endlinecolor": "#2a3f5f",
             "gridcolor": "white",
             "linecolor": "white",
             "minorgridcolor": "white",
             "startlinecolor": "#2a3f5f"
            },
            "baxis": {
             "endlinecolor": "#2a3f5f",
             "gridcolor": "white",
             "linecolor": "white",
             "minorgridcolor": "white",
             "startlinecolor": "#2a3f5f"
            },
            "type": "carpet"
           }
          ],
          "choropleth": [
           {
            "colorbar": {
             "outlinewidth": 0,
             "ticks": ""
            },
            "type": "choropleth"
           }
          ],
          "contour": [
           {
            "colorbar": {
             "outlinewidth": 0,
             "ticks": ""
            },
            "colorscale": [
             [
              0,
              "#0d0887"
             ],
             [
              0.1111111111111111,
              "#46039f"
             ],
             [
              0.2222222222222222,
              "#7201a8"
             ],
             [
              0.3333333333333333,
              "#9c179e"
             ],
             [
              0.4444444444444444,
              "#bd3786"
             ],
             [
              0.5555555555555556,
              "#d8576b"
             ],
             [
              0.6666666666666666,
              "#ed7953"
             ],
             [
              0.7777777777777778,
              "#fb9f3a"
             ],
             [
              0.8888888888888888,
              "#fdca26"
             ],
             [
              1,
              "#f0f921"
             ]
            ],
            "type": "contour"
           }
          ],
          "contourcarpet": [
           {
            "colorbar": {
             "outlinewidth": 0,
             "ticks": ""
            },
            "type": "contourcarpet"
           }
          ],
          "heatmap": [
           {
            "colorbar": {
             "outlinewidth": 0,
             "ticks": ""
            },
            "colorscale": [
             [
              0,
              "#0d0887"
             ],
             [
              0.1111111111111111,
              "#46039f"
             ],
             [
              0.2222222222222222,
              "#7201a8"
             ],
             [
              0.3333333333333333,
              "#9c179e"
             ],
             [
              0.4444444444444444,
              "#bd3786"
             ],
             [
              0.5555555555555556,
              "#d8576b"
             ],
             [
              0.6666666666666666,
              "#ed7953"
             ],
             [
              0.7777777777777778,
              "#fb9f3a"
             ],
             [
              0.8888888888888888,
              "#fdca26"
             ],
             [
              1,
              "#f0f921"
             ]
            ],
            "type": "heatmap"
           }
          ],
          "heatmapgl": [
           {
            "colorbar": {
             "outlinewidth": 0,
             "ticks": ""
            },
            "colorscale": [
             [
              0,
              "#0d0887"
             ],
             [
              0.1111111111111111,
              "#46039f"
             ],
             [
              0.2222222222222222,
              "#7201a8"
             ],
             [
              0.3333333333333333,
              "#9c179e"
             ],
             [
              0.4444444444444444,
              "#bd3786"
             ],
             [
              0.5555555555555556,
              "#d8576b"
             ],
             [
              0.6666666666666666,
              "#ed7953"
             ],
             [
              0.7777777777777778,
              "#fb9f3a"
             ],
             [
              0.8888888888888888,
              "#fdca26"
             ],
             [
              1,
              "#f0f921"
             ]
            ],
            "type": "heatmapgl"
           }
          ],
          "histogram": [
           {
            "marker": {
             "pattern": {
              "fillmode": "overlay",
              "size": 10,
              "solidity": 0.2
             }
            },
            "type": "histogram"
           }
          ],
          "histogram2d": [
           {
            "colorbar": {
             "outlinewidth": 0,
             "ticks": ""
            },
            "colorscale": [
             [
              0,
              "#0d0887"
             ],
             [
              0.1111111111111111,
              "#46039f"
             ],
             [
              0.2222222222222222,
              "#7201a8"
             ],
             [
              0.3333333333333333,
              "#9c179e"
             ],
             [
              0.4444444444444444,
              "#bd3786"
             ],
             [
              0.5555555555555556,
              "#d8576b"
             ],
             [
              0.6666666666666666,
              "#ed7953"
             ],
             [
              0.7777777777777778,
              "#fb9f3a"
             ],
             [
              0.8888888888888888,
              "#fdca26"
             ],
             [
              1,
              "#f0f921"
             ]
            ],
            "type": "histogram2d"
           }
          ],
          "histogram2dcontour": [
           {
            "colorbar": {
             "outlinewidth": 0,
             "ticks": ""
            },
            "colorscale": [
             [
              0,
              "#0d0887"
             ],
             [
              0.1111111111111111,
              "#46039f"
             ],
             [
              0.2222222222222222,
              "#7201a8"
             ],
             [
              0.3333333333333333,
              "#9c179e"
             ],
             [
              0.4444444444444444,
              "#bd3786"
             ],
             [
              0.5555555555555556,
              "#d8576b"
             ],
             [
              0.6666666666666666,
              "#ed7953"
             ],
             [
              0.7777777777777778,
              "#fb9f3a"
             ],
             [
              0.8888888888888888,
              "#fdca26"
             ],
             [
              1,
              "#f0f921"
             ]
            ],
            "type": "histogram2dcontour"
           }
          ],
          "mesh3d": [
           {
            "colorbar": {
             "outlinewidth": 0,
             "ticks": ""
            },
            "type": "mesh3d"
           }
          ],
          "parcoords": [
           {
            "line": {
             "colorbar": {
              "outlinewidth": 0,
              "ticks": ""
             }
            },
            "type": "parcoords"
           }
          ],
          "pie": [
           {
            "automargin": true,
            "type": "pie"
           }
          ],
          "scatter": [
           {
            "fillpattern": {
             "fillmode": "overlay",
             "size": 10,
             "solidity": 0.2
            },
            "type": "scatter"
           }
          ],
          "scatter3d": [
           {
            "line": {
             "colorbar": {
              "outlinewidth": 0,
              "ticks": ""
             }
            },
            "marker": {
             "colorbar": {
              "outlinewidth": 0,
              "ticks": ""
             }
            },
            "type": "scatter3d"
           }
          ],
          "scattercarpet": [
           {
            "marker": {
             "colorbar": {
              "outlinewidth": 0,
              "ticks": ""
             }
            },
            "type": "scattercarpet"
           }
          ],
          "scattergeo": [
           {
            "marker": {
             "colorbar": {
              "outlinewidth": 0,
              "ticks": ""
             }
            },
            "type": "scattergeo"
           }
          ],
          "scattergl": [
           {
            "marker": {
             "colorbar": {
              "outlinewidth": 0,
              "ticks": ""
             }
            },
            "type": "scattergl"
           }
          ],
          "scattermapbox": [
           {
            "marker": {
             "colorbar": {
              "outlinewidth": 0,
              "ticks": ""
             }
            },
            "type": "scattermapbox"
           }
          ],
          "scatterpolar": [
           {
            "marker": {
             "colorbar": {
              "outlinewidth": 0,
              "ticks": ""
             }
            },
            "type": "scatterpolar"
           }
          ],
          "scatterpolargl": [
           {
            "marker": {
             "colorbar": {
              "outlinewidth": 0,
              "ticks": ""
             }
            },
            "type": "scatterpolargl"
           }
          ],
          "scatterternary": [
           {
            "marker": {
             "colorbar": {
              "outlinewidth": 0,
              "ticks": ""
             }
            },
            "type": "scatterternary"
           }
          ],
          "surface": [
           {
            "colorbar": {
             "outlinewidth": 0,
             "ticks": ""
            },
            "colorscale": [
             [
              0,
              "#0d0887"
             ],
             [
              0.1111111111111111,
              "#46039f"
             ],
             [
              0.2222222222222222,
              "#7201a8"
             ],
             [
              0.3333333333333333,
              "#9c179e"
             ],
             [
              0.4444444444444444,
              "#bd3786"
             ],
             [
              0.5555555555555556,
              "#d8576b"
             ],
             [
              0.6666666666666666,
              "#ed7953"
             ],
             [
              0.7777777777777778,
              "#fb9f3a"
             ],
             [
              0.8888888888888888,
              "#fdca26"
             ],
             [
              1,
              "#f0f921"
             ]
            ],
            "type": "surface"
           }
          ],
          "table": [
           {
            "cells": {
             "fill": {
              "color": "#EBF0F8"
             },
             "line": {
              "color": "white"
             }
            },
            "header": {
             "fill": {
              "color": "#C8D4E3"
             },
             "line": {
              "color": "white"
             }
            },
            "type": "table"
           }
          ]
         },
         "layout": {
          "annotationdefaults": {
           "arrowcolor": "#2a3f5f",
           "arrowhead": 0,
           "arrowwidth": 1
          },
          "autotypenumbers": "strict",
          "coloraxis": {
           "colorbar": {
            "outlinewidth": 0,
            "ticks": ""
           }
          },
          "colorscale": {
           "diverging": [
            [
             0,
             "#8e0152"
            ],
            [
             0.1,
             "#c51b7d"
            ],
            [
             0.2,
             "#de77ae"
            ],
            [
             0.3,
             "#f1b6da"
            ],
            [
             0.4,
             "#fde0ef"
            ],
            [
             0.5,
             "#f7f7f7"
            ],
            [
             0.6,
             "#e6f5d0"
            ],
            [
             0.7,
             "#b8e186"
            ],
            [
             0.8,
             "#7fbc41"
            ],
            [
             0.9,
             "#4d9221"
            ],
            [
             1,
             "#276419"
            ]
           ],
           "sequential": [
            [
             0,
             "#0d0887"
            ],
            [
             0.1111111111111111,
             "#46039f"
            ],
            [
             0.2222222222222222,
             "#7201a8"
            ],
            [
             0.3333333333333333,
             "#9c179e"
            ],
            [
             0.4444444444444444,
             "#bd3786"
            ],
            [
             0.5555555555555556,
             "#d8576b"
            ],
            [
             0.6666666666666666,
             "#ed7953"
            ],
            [
             0.7777777777777778,
             "#fb9f3a"
            ],
            [
             0.8888888888888888,
             "#fdca26"
            ],
            [
             1,
             "#f0f921"
            ]
           ],
           "sequentialminus": [
            [
             0,
             "#0d0887"
            ],
            [
             0.1111111111111111,
             "#46039f"
            ],
            [
             0.2222222222222222,
             "#7201a8"
            ],
            [
             0.3333333333333333,
             "#9c179e"
            ],
            [
             0.4444444444444444,
             "#bd3786"
            ],
            [
             0.5555555555555556,
             "#d8576b"
            ],
            [
             0.6666666666666666,
             "#ed7953"
            ],
            [
             0.7777777777777778,
             "#fb9f3a"
            ],
            [
             0.8888888888888888,
             "#fdca26"
            ],
            [
             1,
             "#f0f921"
            ]
           ]
          },
          "colorway": [
           "#636efa",
           "#EF553B",
           "#00cc96",
           "#ab63fa",
           "#FFA15A",
           "#19d3f3",
           "#FF6692",
           "#B6E880",
           "#FF97FF",
           "#FECB52"
          ],
          "font": {
           "color": "#2a3f5f"
          },
          "geo": {
           "bgcolor": "white",
           "lakecolor": "white",
           "landcolor": "#E5ECF6",
           "showlakes": true,
           "showland": true,
           "subunitcolor": "white"
          },
          "hoverlabel": {
           "align": "left"
          },
          "hovermode": "closest",
          "mapbox": {
           "style": "light"
          },
          "paper_bgcolor": "white",
          "plot_bgcolor": "#E5ECF6",
          "polar": {
           "angularaxis": {
            "gridcolor": "white",
            "linecolor": "white",
            "ticks": ""
           },
           "bgcolor": "#E5ECF6",
           "radialaxis": {
            "gridcolor": "white",
            "linecolor": "white",
            "ticks": ""
           }
          },
          "scene": {
           "xaxis": {
            "backgroundcolor": "#E5ECF6",
            "gridcolor": "white",
            "gridwidth": 2,
            "linecolor": "white",
            "showbackground": true,
            "ticks": "",
            "zerolinecolor": "white"
           },
           "yaxis": {
            "backgroundcolor": "#E5ECF6",
            "gridcolor": "white",
            "gridwidth": 2,
            "linecolor": "white",
            "showbackground": true,
            "ticks": "",
            "zerolinecolor": "white"
           },
           "zaxis": {
            "backgroundcolor": "#E5ECF6",
            "gridcolor": "white",
            "gridwidth": 2,
            "linecolor": "white",
            "showbackground": true,
            "ticks": "",
            "zerolinecolor": "white"
           }
          },
          "shapedefaults": {
           "line": {
            "color": "#2a3f5f"
           }
          },
          "ternary": {
           "aaxis": {
            "gridcolor": "white",
            "linecolor": "white",
            "ticks": ""
           },
           "baxis": {
            "gridcolor": "white",
            "linecolor": "white",
            "ticks": ""
           },
           "bgcolor": "#E5ECF6",
           "caxis": {
            "gridcolor": "white",
            "linecolor": "white",
            "ticks": ""
           }
          },
          "title": {
           "x": 0.05
          },
          "xaxis": {
           "automargin": true,
           "gridcolor": "white",
           "linecolor": "white",
           "ticks": "",
           "title": {
            "standoff": 15
           },
           "zerolinecolor": "white",
           "zerolinewidth": 2
          },
          "yaxis": {
           "automargin": true,
           "gridcolor": "white",
           "linecolor": "white",
           "ticks": "",
           "title": {
            "standoff": 15
           },
           "zerolinecolor": "white",
           "zerolinewidth": 2
          }
         }
        },
        "title": {
         "text": "Top 10 Companies by Domain Authority"
        },
        "xaxis": {
         "anchor": "y",
         "domain": [
          0,
          1
         ],
         "title": {
          "text": "Competitor"
         }
        },
        "yaxis": {
         "anchor": "x",
         "domain": [
          0,
          1
         ],
         "title": {
          "text": "Domain_Strength_10"
         }
        }
       }
      }
     },
     "metadata": {},
     "output_type": "display_data"
    }
   ],
   "source": [
    "fig = px.bar(\n",
    "    data.nlargest(10, 'Domain_Strength_10'),\n",
    "    x='Competition Name',\n",
    "    y='Domain_Strength_10',\n",
    "    color='Domain_Strength_10',\n",
    "    title='Top 10 Companies by Domain Authority',\n",
    "    labels={\"Competition Name\": \"Competitor\"}\n",
    ")\n",
    "fig.show()"
   ]
  }
 ],
 "metadata": {
  "kernelspec": {
   "display_name": "Python 3",
   "language": "python",
   "name": "python3"
  },
  "language_info": {
   "codemirror_mode": {
    "name": "ipython",
    "version": 3
   },
   "file_extension": ".py",
   "mimetype": "text/x-python",
   "name": "python",
   "nbconvert_exporter": "python",
   "pygments_lexer": "ipython3",
   "version": "3.10.11"
  }
 },
 "nbformat": 4,
 "nbformat_minor": 2
}
